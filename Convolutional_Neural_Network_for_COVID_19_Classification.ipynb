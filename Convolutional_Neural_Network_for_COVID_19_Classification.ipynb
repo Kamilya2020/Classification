{
  "nbformat": 4,
  "nbformat_minor": 0,
  "metadata": {
    "colab": {
      "provenance": [],
      "include_colab_link": true
    },
    "kernelspec": {
      "name": "python3",
      "display_name": "Python 3"
    },
    "language_info": {
      "name": "python"
    },
    "accelerator": "GPU"
  },
  "cells": [
    {
      "cell_type": "markdown",
      "metadata": {
        "id": "view-in-github",
        "colab_type": "text"
      },
      "source": [
        "<a href=\"https://colab.research.google.com/github/Kamilya2020/Classification/blob/main/Convolutional_Neural_Network_for_COVID_19_Classification.ipynb\" target=\"_parent\"><img src=\"https://colab.research.google.com/assets/colab-badge.svg\" alt=\"Open In Colab\"/></a>"
      ]
    },
    {
      "cell_type": "code",
      "metadata": {
        "id": "nUgiL8TtN-9K",
        "colab": {
          "base_uri": "https://localhost:8080/"
        },
        "outputId": "e609bc9e-edec-422c-8ed1-2eaa78467478"
      },
      "source": [
        "from google.colab import drive\n",
        "drive.mount('/content/drive')"
      ],
      "execution_count": 1,
      "outputs": [
        {
          "output_type": "stream",
          "name": "stdout",
          "text": [
            "Mounted at /content/drive\n"
          ]
        }
      ]
    },
    {
      "cell_type": "code",
      "metadata": {
        "id": "yUACxKgocmGL",
        "colab": {
          "base_uri": "https://localhost:8080/"
        },
        "outputId": "e633cab3-2d53-43ef-a7f2-9bf7dbff76ca"
      },
      "source": [
        "!unzip /content/drive/MyDrive/data.zip # Décompresser votre base de données à partir du Drive"
      ],
      "execution_count": 4,
      "outputs": [
        {
          "output_type": "stream",
          "name": "stdout",
          "text": [
            "Archive:  /content/drive/MyDrive/data.zip\n",
            "   creating: data/\n",
            "   creating: data/TEST/\n",
            "  inflating: data/TEST/COVID-19.jpeg  \n",
            "  inflating: data/TEST/Healthy.jpeg  \n",
            "   creating: data/TRAIN/\n",
            "   creating: data/TRAIN/COVID-19/\n",
            "  inflating: data/TRAIN/COVID-19/1-s2.0-S0140673620303706-fx1_lrg.jpg  \n",
            "  inflating: data/TRAIN/COVID-19/1-s2.0-S0929664620300449-gr2_lrg-a.jpg  \n",
            "  inflating: data/TRAIN/COVID-19/1-s2.0-S0929664620300449-gr2_lrg-b.jpg  \n",
            "  inflating: data/TRAIN/COVID-19/1-s2.0-S0929664620300449-gr2_lrg-c.jpg  \n",
            "  inflating: data/TRAIN/COVID-19/1-s2.0-S0929664620300449-gr2_lrg-d.jpg  \n",
            "  inflating: data/TRAIN/COVID-19/auntminnie-a-2020_01_28_23_51_6665_2020_01_28_Vietnam_coronavirus.jpeg  \n",
            "  inflating: data/TRAIN/COVID-19/auntminnie-b-2020_01_28_23_51_6665_2020_01_28_Vietnam_coronavirus.jpeg  \n",
            "  inflating: data/TRAIN/COVID-19/auntminnie-c-2020_01_28_23_51_6665_2020_01_28_Vietnam_coronavirus.jpeg  \n",
            "  inflating: data/TRAIN/COVID-19/auntminnie-d-2020_01_28_23_51_6665_2020_01_28_Vietnam_coronavirus.jpeg  \n",
            "  inflating: data/TRAIN/COVID-19/lancet-case2a.jpg  \n",
            "  inflating: data/TRAIN/COVID-19/lancet-case2b.jpg  \n",
            "  inflating: data/TRAIN/COVID-19/nCoV-radiol.2020200269.fig1-day7.jpeg  \n",
            "  inflating: data/TRAIN/COVID-19/nejmc2001573_f1a.jpeg  \n",
            "  inflating: data/TRAIN/COVID-19/nejmc2001573_f1b.jpeg  \n",
            "  inflating: data/TRAIN/COVID-19/nejmoa2001191_f1-PA.jpeg  \n",
            "  inflating: data/TRAIN/COVID-19/nejmoa2001191_f3-PA.jpeg  \n",
            "  inflating: data/TRAIN/COVID-19/nejmoa2001191_f4.jpeg  \n",
            "  inflating: data/TRAIN/COVID-19/nejmoa2001191_f5-PA.jpeg  \n",
            "  inflating: data/TRAIN/COVID-19/radiol.2020200490.fig3.jpeg  \n",
            "  inflating: data/TRAIN/COVID-19/radiopedia-covid-19-pneumonia-2.jpg  \n",
            "   creating: data/TRAIN/Healthy/\n",
            "  inflating: data/TRAIN/Healthy/IM-0466-0001.jpeg  \n",
            "  inflating: data/TRAIN/Healthy/NORMAL2-IM-0315-0001.jpeg  \n",
            "  inflating: data/TRAIN/Healthy/NORMAL2-IM-0696-0001.jpeg  \n",
            "  inflating: data/TRAIN/Healthy/NORMAL2-IM-0869-0001.jpeg  \n",
            "  inflating: data/TRAIN/Healthy/NORMAL2-IM-1179-0001.jpeg  \n",
            "  inflating: data/TRAIN/Healthy/person1102_bacteria_3043.jpeg  \n",
            "  inflating: data/TRAIN/Healthy/person1599_virus_2776.jpeg  \n",
            "  inflating: data/TRAIN/Healthy/person1830_bacteria_4693.jpeg  \n",
            "  inflating: data/TRAIN/Healthy/person1935_bacteria_4849.jpeg  \n",
            "  inflating: data/TRAIN/Healthy/person1_bacteria_2.jpeg  \n",
            "  inflating: data/TRAIN/Healthy/person259_bacteria_1220.jpeg  \n",
            "  inflating: data/TRAIN/Healthy/person339_bacteria_1574.jpeg  \n",
            "  inflating: data/TRAIN/Healthy/person525_bacteria_2216.jpeg  \n",
            "  inflating: data/TRAIN/Healthy/person612_bacteria_2478.jpeg  \n",
            "  inflating: data/TRAIN/Healthy/person651_bacteria_2543.jpeg  \n",
            "  inflating: data/TRAIN/Healthy/person925_virus_1582.jpeg  \n",
            "  inflating: data/TRAIN/Healthy/person934_virus_1595.jpeg  \n",
            "  inflating: data/TRAIN/Healthy/person939_bacteria_2864.jpeg  \n",
            "  inflating: data/TRAIN/Healthy/person989_virus_1667.jpeg  \n",
            "   creating: data/VAL/\n",
            "   creating: data/VAL/COVID-19/\n",
            "  inflating: data/VAL/COVID-19/ryct.2020200028.fig1a.jpeg  \n",
            "  inflating: data/VAL/COVID-19/ryct.2020200034.fig2.jpeg  \n",
            "  inflating: data/VAL/COVID-19/ryct.2020200034.fig5-day0.jpeg  \n",
            "  inflating: data/VAL/COVID-19/ryct.2020200034.fig5-day4.jpeg  \n",
            "  inflating: data/VAL/COVID-19/ryct.2020200034.fig5-day7.jpeg  \n",
            "   creating: data/VAL/Healthy/\n",
            "  inflating: data/VAL/Healthy/IM-0033-0001-0001.jpeg  \n",
            "  inflating: data/VAL/Healthy/IM-0240-0001.jpeg  \n",
            "  inflating: data/VAL/Healthy/person1290_virus_2215.jpeg  \n",
            "  inflating: data/VAL/Healthy/person378_virus_761.jpeg  \n",
            "  inflating: data/VAL/Healthy/person438_bacteria_1893.jpeg  \n"
          ]
        }
      ]
    },
    {
      "cell_type": "code",
      "metadata": {
        "colab": {
          "base_uri": "https://localhost:8080/"
        },
        "id": "S3MXYFlcjSLV",
        "outputId": "8dfc3826-2e49-456a-bea4-fc982bb66018"
      },
      "source": [
        "import os\n",
        "print('total Validation COVID-19 images:', len(os.listdir('data/VAL/COVID-19')))\n",
        "print('total Validation Healthy images:', len(os.listdir('data/VAL/Healthy')))\n",
        "\n",
        "print('total Training COVID-19 images:', len(os.listdir('data/TRAIN/COVID-19')))\n",
        "print('total Training Healthy images:', len(os.listdir('data/TRAIN/Healthy')))"
      ],
      "execution_count": 8,
      "outputs": [
        {
          "output_type": "stream",
          "name": "stdout",
          "text": [
            "total Validation COVID-19 images: 5\n",
            "total Validation Healthy images: 5\n",
            "total Training COVID-19 images: 20\n",
            "total Training Healthy images: 19\n"
          ]
        }
      ]
    },
    {
      "cell_type": "code",
      "metadata": {
        "id": "1wxm7jzSjrNE"
      },
      "source": [
        "train_dir = '/content/data/TRAIN'\n",
        "validation_dir = '/content/data/VAL'"
      ],
      "execution_count": 9,
      "outputs": []
    },
    {
      "cell_type": "code",
      "metadata": {
        "id": "N1JdtyRwk9yv"
      },
      "source": [
        "from tensorflow.keras.models import Sequential\n",
        "from keras import layers\n",
        "from tensorflow.keras.layers import Dense,Conv2D,Flatten,MaxPooling2D\n",
        "from tensorflow.keras.callbacks import EarlyStopping,ReduceLROnPlateau\n",
        "model = Sequential()\n",
        "model.add(layers.Conv2D(256, (3, 3), activation='relu',input_shape=(227, 227, 3)))\n",
        "model.add(layers.MaxPooling2D((2, 2)))\n",
        "model.add(layers.Conv2D(64, (3, 3), activation='relu'))\n",
        "model.add(layers.MaxPooling2D((2, 2)))\n",
        "model.add(layers.Flatten())\n",
        "model.add(layers.Dense(256, activation='sigmoid'))\n",
        "model.add(layers.Dense(1, activation='sigmoid'))"
      ],
      "execution_count": 10,
      "outputs": []
    },
    {
      "cell_type": "code",
      "metadata": {
        "colab": {
          "base_uri": "https://localhost:8080/"
        },
        "id": "rWRkJ5lRnl4m",
        "outputId": "14710ade-5220-4a59-d30c-c48acf939b48"
      },
      "source": [
        "model.summary()"
      ],
      "execution_count": 11,
      "outputs": [
        {
          "output_type": "stream",
          "name": "stdout",
          "text": [
            "Model: \"sequential\"\n",
            "_________________________________________________________________\n",
            " Layer (type)                Output Shape              Param #   \n",
            "=================================================================\n",
            " conv2d (Conv2D)             (None, 225, 225, 256)     7168      \n",
            "                                                                 \n",
            " max_pooling2d (MaxPooling2D  (None, 112, 112, 256)    0         \n",
            " )                                                               \n",
            "                                                                 \n",
            " conv2d_1 (Conv2D)           (None, 110, 110, 64)      147520    \n",
            "                                                                 \n",
            " max_pooling2d_1 (MaxPooling  (None, 55, 55, 64)       0         \n",
            " 2D)                                                             \n",
            "                                                                 \n",
            " flatten (Flatten)           (None, 193600)            0         \n",
            "                                                                 \n",
            " dense (Dense)               (None, 256)               49561856  \n",
            "                                                                 \n",
            " dense_1 (Dense)             (None, 1)                 257       \n",
            "                                                                 \n",
            "=================================================================\n",
            "Total params: 49,716,801\n",
            "Trainable params: 49,716,801\n",
            "Non-trainable params: 0\n",
            "_________________________________________________________________\n"
          ]
        }
      ]
    },
    {
      "cell_type": "code",
      "metadata": {
        "colab": {
          "base_uri": "https://localhost:8080/"
        },
        "id": "_W4H8zMinn_Y",
        "outputId": "d298c793-f0e0-447b-c7c7-5fa6ae2b0641"
      },
      "source": [
        "from keras.preprocessing.image import ImageDataGenerator\n",
        "train_datagen = ImageDataGenerator(rescale=1./255,\n",
        "                                   rotation_range=10,\n",
        "                                   zoom_range=0.4,\n",
        "                                   horizontal_flip=True,\n",
        "                                   vertical_flip=True,\n",
        "                                   fill_mode='nearest')\n",
        "Val_datagen = ImageDataGenerator(rescale=1./255)\n",
        "train_generator = train_datagen.flow_from_directory(\n",
        "    train_dir,\n",
        "    target_size=(227, 227),\n",
        "    batch_size=2,\n",
        "    class_mode='binary')\n",
        "validation_generator = Val_datagen.flow_from_directory(\n",
        "    validation_dir,\n",
        "    target_size=(227, 227),\n",
        "    batch_size=2,\n",
        "    class_mode='binary')"
      ],
      "execution_count": 12,
      "outputs": [
        {
          "output_type": "stream",
          "name": "stdout",
          "text": [
            "Found 39 images belonging to 2 classes.\n",
            "Found 10 images belonging to 2 classes.\n"
          ]
        }
      ]
    },
    {
      "cell_type": "code",
      "metadata": {
        "colab": {
          "base_uri": "https://localhost:8080/"
        },
        "id": "TalE-tbhrF_Q",
        "outputId": "24abffc0-5246-48f8-d3e7-0477eaa83c0a"
      },
      "source": [
        "early = EarlyStopping(monitor='val_loss', mode='min', patience=3)\n",
        "learning_rate_reduction = ReduceLROnPlateau(monitor='val_loss', min_lr=0.000001)\n",
        "callbacks_list = [ early, learning_rate_reduction]\n",
        "model.compile(optimizer = 'adam', loss = 'binary_crossentropy', metrics = ['accuracy'])\n",
        "history = model.fit(train_generator,epochs=25, validation_data=validation_generator, callbacks=callbacks_list)"
      ],
      "execution_count": 13,
      "outputs": [
        {
          "output_type": "stream",
          "name": "stdout",
          "text": [
            "Epoch 1/25\n",
            "20/20 [==============================] - 11s 106ms/step - loss: 4.7463 - accuracy: 0.4103 - val_loss: 3.9916 - val_accuracy: 0.5000 - lr: 0.0010\n",
            "Epoch 2/25\n",
            "20/20 [==============================] - 2s 79ms/step - loss: 3.4714 - accuracy: 0.5128 - val_loss: 2.9754 - val_accuracy: 0.5000 - lr: 0.0010\n",
            "Epoch 3/25\n",
            "20/20 [==============================] - 2s 80ms/step - loss: 2.4544 - accuracy: 0.5128 - val_loss: 1.9966 - val_accuracy: 0.5000 - lr: 0.0010\n",
            "Epoch 4/25\n",
            "20/20 [==============================] - 2s 87ms/step - loss: 1.4706 - accuracy: 0.5128 - val_loss: 1.1475 - val_accuracy: 0.5000 - lr: 0.0010\n",
            "Epoch 5/25\n",
            "20/20 [==============================] - 2s 81ms/step - loss: 0.8796 - accuracy: 0.5128 - val_loss: 0.6997 - val_accuracy: 0.5000 - lr: 0.0010\n",
            "Epoch 6/25\n",
            "20/20 [==============================] - 2s 80ms/step - loss: 0.7033 - accuracy: 0.4359 - val_loss: 0.6950 - val_accuracy: 0.5000 - lr: 0.0010\n",
            "Epoch 7/25\n",
            "20/20 [==============================] - 2s 79ms/step - loss: 0.6994 - accuracy: 0.4615 - val_loss: 0.6959 - val_accuracy: 0.5000 - lr: 0.0010\n",
            "Epoch 8/25\n",
            "20/20 [==============================] - 2s 80ms/step - loss: 0.7002 - accuracy: 0.5128 - val_loss: 0.6938 - val_accuracy: 0.5000 - lr: 0.0010\n",
            "Epoch 9/25\n",
            "20/20 [==============================] - 2s 81ms/step - loss: 0.7094 - accuracy: 0.5128 - val_loss: 0.6951 - val_accuracy: 0.5000 - lr: 0.0010\n",
            "Epoch 10/25\n",
            "20/20 [==============================] - 2s 81ms/step - loss: 0.6958 - accuracy: 0.4872 - val_loss: 0.6950 - val_accuracy: 0.5000 - lr: 0.0010\n",
            "Epoch 11/25\n",
            "20/20 [==============================] - 2s 81ms/step - loss: 0.7063 - accuracy: 0.2821 - val_loss: 0.6933 - val_accuracy: 0.5000 - lr: 0.0010\n",
            "Epoch 12/25\n",
            "20/20 [==============================] - 2s 82ms/step - loss: 0.6973 - accuracy: 0.4615 - val_loss: 0.6939 - val_accuracy: 0.5000 - lr: 0.0010\n",
            "Epoch 13/25\n",
            "20/20 [==============================] - 2s 77ms/step - loss: 0.6951 - accuracy: 0.5128 - val_loss: 0.6936 - val_accuracy: 0.5000 - lr: 0.0010\n",
            "Epoch 14/25\n",
            "20/20 [==============================] - 2s 81ms/step - loss: 0.6996 - accuracy: 0.4103 - val_loss: 0.6938 - val_accuracy: 0.5000 - lr: 0.0010\n"
          ]
        }
      ]
    },
    {
      "cell_type": "code",
      "metadata": {
        "colab": {
          "base_uri": "https://localhost:8080/"
        },
        "id": "v2Y_C9RbxpLQ",
        "outputId": "c379abd5-79f1-47d5-c121-92b16e1526c9"
      },
      "source": [
        "model.save_weights(\"model.h5\")\n",
        "print(\"Saved model to disk\")"
      ],
      "execution_count": 14,
      "outputs": [
        {
          "output_type": "stream",
          "name": "stdout",
          "text": [
            "Saved model to disk\n"
          ]
        }
      ]
    },
    {
      "cell_type": "code",
      "metadata": {
        "id": "XQYi_F_xyTP_"
      },
      "source": [
        "import numpy as np\n",
        "import matplotlib.pyplot as plt\n",
        "import tensorflow as tf\n",
        "from tensorflow.keras.preprocessing import image\n",
        "img_path='/content/data/TEST/COVID-19.jpeg'"
      ],
      "execution_count": 19,
      "outputs": []
    },
    {
      "cell_type": "code",
      "metadata": {
        "colab": {
          "base_uri": "https://localhost:8080/",
          "height": 304
        },
        "id": "LOAC9l3byTwm",
        "outputId": "5bbf7988-9a3a-4985-8e2b-5d8e890161ef"
      },
      "source": [
        "img = tf.keras.utils.load_img(img_path, target_size=(227, 227))\n",
        "plt.imshow(img)\n",
        "plt.show()\n",
        "img = image.img_to_array(img)\n",
        "x = np.expand_dims(img, axis=0) * 1./255\n",
        "score = model.predict(x)\n",
        "print('Predicted:', score, 'COVID-19' if score < 0.5 else 'Healthy')"
      ],
      "execution_count": 23,
      "outputs": [
        {
          "output_type": "display_data",
          "data": {
            "text/plain": [
              "<Figure size 432x288 with 1 Axes>"
            ],
            "image/png": "[encoded data removed]"
          },
          "metadata": {
            "needs_background": "light"
          }
        },
        {
          "output_type": "stream",
          "name": "stdout",
          "text": [
            "1/1 [==============================] - 0s 21ms/step\n",
            "Predicted: [[0.48261026]] COVID-19\n"
          ]
        }
      ]
    }
  ]
}