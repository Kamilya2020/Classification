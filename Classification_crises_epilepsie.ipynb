{
  "cells": [
    {
      "cell_type": "markdown",
      "metadata": {
        "id": "view-in-github",
        "colab_type": "text"
      },
      "source": [
        "<a href=\"https://colab.research.google.com/github/Kamilya2020/Classification/blob/main/Classification_crises_epilepsie.ipynb\" target=\"_parent\"><img src=\"https://colab.research.google.com/assets/colab-badge.svg\" alt=\"Open In Colab\"/></a>"
      ]
    },
    {
      "cell_type": "markdown",
      "metadata": {
        "id": "vZy8Y65tsUgH"
      },
      "source": [
        "**Importation des bibliothèques**"
      ]
    },
    {
      "cell_type": "code",
      "execution_count": 1,
      "metadata": {
        "colab": {
          "base_uri": "https://localhost:8080/"
        },
        "id": "pPUP0ixTT8aQ",
        "outputId": "f0d22b42-0627-4b7a-81ea-45a2ffed1983"
      },
      "outputs": [
        {
          "output_type": "stream",
          "name": "stdout",
          "text": [
            "2.8.2\n",
            "1.21.6\n"
          ]
        }
      ],
      "source": [
        "import tensorflow \n",
        "import tensorflow as tf\n",
        "from tensorflow.keras import backend as k\n",
        "from tensorflow.keras.models import Sequential\n",
        "from tensorflow.keras.layers import Dense, Dropout,Conv2D, MaxPooling2D,Flatten,BatchNormalization\n",
        "from sklearn.model_selection import train_test_split\n",
        "from tensorflow.keras import regularizers\n",
        "import numpy\n",
        "\n",
        "from sklearn import preprocessing\n",
        "\n",
        "from tensorflow.keras.callbacks import ModelCheckpoint, LearningRateScheduler\n",
        "\n",
        "\n",
        "import tensorflow as tf\n",
        "print(tf.__version__)\n",
        "\n",
        "import numpy as np\n",
        "print(np.__version__)\n",
        "\n",
        "numpy.random.seed(2)\n",
        "import pandas as pd\n"
      ]
    },
    {
      "cell_type": "markdown",
      "metadata": {
        "id": "j9N-lgkzsu3B"
      },
      "source": [
        "**Importation de la base**"
      ]
    },
    {
      "cell_type": "code",
      "execution_count": 4,
      "metadata": {
        "colab": {
          "base_uri": "https://localhost:8080/",
          "height": 450
        },
        "id": "bfwTiXMuXDva",
        "outputId": "4c260dbf-66c6-4083-df84-9f3c0e844eb9"
      },
      "outputs": [
        {
          "output_type": "stream",
          "name": "stdout",
          "text": [
            "(13762, 7)\n",
            "(13762, 7)\n",
            "(13762, 7, 2)\n"
          ]
        },
        {
          "output_type": "error",
          "ename": "FileNotFoundError",
          "evalue": "ignored",
          "traceback": [
            "\u001b[0;31m---------------------------------------------------------------------------\u001b[0m",
            "\u001b[0;31mFileNotFoundError\u001b[0m                         Traceback (most recent call last)",
            "\u001b[0;32m<ipython-input-4-18223b49659f>\u001b[0m in \u001b[0;36m<module>\u001b[0;34m\u001b[0m\n\u001b[1;32m     25\u001b[0m \u001b[0;34m\u001b[0m\u001b[0m\n\u001b[1;32m     26\u001b[0m \u001b[0;31m#print(x_test.shape)\u001b[0m\u001b[0;34m\u001b[0m\u001b[0;34m\u001b[0m\u001b[0;34m\u001b[0m\u001b[0m\n\u001b[0;32m---> 27\u001b[0;31m \u001b[0mdataset_output\u001b[0m\u001b[0;34m=\u001b[0m \u001b[0mpd\u001b[0m\u001b[0;34m.\u001b[0m\u001b[0mread_csv\u001b[0m\u001b[0;34m(\u001b[0m\u001b[0;34m\"./y2_e2.txt\"\u001b[0m\u001b[0;34m,\u001b[0m\u001b[0mdelimiter\u001b[0m\u001b[0;34m=\u001b[0m\u001b[0;34m\" \"\u001b[0m\u001b[0;34m,\u001b[0m\u001b[0mheader\u001b[0m\u001b[0;34m=\u001b[0m\u001b[0;32mNone\u001b[0m\u001b[0;34m)\u001b[0m\u001b[0;34m\u001b[0m\u001b[0;34m\u001b[0m\u001b[0m\n\u001b[0m\u001b[1;32m     28\u001b[0m \u001b[0mdataset_output\u001b[0m\u001b[0;34m=\u001b[0m\u001b[0mnumpy\u001b[0m\u001b[0;34m.\u001b[0m\u001b[0marray\u001b[0m\u001b[0;34m(\u001b[0m\u001b[0mdataset_output\u001b[0m\u001b[0;34m,\u001b[0m\u001b[0mfloat\u001b[0m\u001b[0;34m)\u001b[0m\u001b[0;34m\u001b[0m\u001b[0;34m\u001b[0m\u001b[0m\n\u001b[1;32m     29\u001b[0m \u001b[0mdataset_output_new\u001b[0m\u001b[0;34m=\u001b[0m \u001b[0mdataset_output\u001b[0m\u001b[0;34m.\u001b[0m\u001b[0mreshape\u001b[0m\u001b[0;34m(\u001b[0m\u001b[0mdataset_output\u001b[0m\u001b[0;34m.\u001b[0m\u001b[0mshape\u001b[0m\u001b[0;34m[\u001b[0m\u001b[0;36m0\u001b[0m\u001b[0;34m]\u001b[0m\u001b[0;34m,\u001b[0m \u001b[0;34m)\u001b[0m\u001b[0;34m\u001b[0m\u001b[0;34m\u001b[0m\u001b[0m\n",
            "\u001b[0;32m/usr/local/lib/python3.7/dist-packages/pandas/util/_decorators.py\u001b[0m in \u001b[0;36mwrapper\u001b[0;34m(*args, **kwargs)\u001b[0m\n\u001b[1;32m    309\u001b[0m                     \u001b[0mstacklevel\u001b[0m\u001b[0;34m=\u001b[0m\u001b[0mstacklevel\u001b[0m\u001b[0;34m,\u001b[0m\u001b[0;34m\u001b[0m\u001b[0;34m\u001b[0m\u001b[0m\n\u001b[1;32m    310\u001b[0m                 )\n\u001b[0;32m--> 311\u001b[0;31m             \u001b[0;32mreturn\u001b[0m \u001b[0mfunc\u001b[0m\u001b[0;34m(\u001b[0m\u001b[0;34m*\u001b[0m\u001b[0margs\u001b[0m\u001b[0;34m,\u001b[0m \u001b[0;34m**\u001b[0m\u001b[0mkwargs\u001b[0m\u001b[0;34m)\u001b[0m\u001b[0;34m\u001b[0m\u001b[0;34m\u001b[0m\u001b[0m\n\u001b[0m\u001b[1;32m    312\u001b[0m \u001b[0;34m\u001b[0m\u001b[0m\n\u001b[1;32m    313\u001b[0m         \u001b[0;32mreturn\u001b[0m \u001b[0mwrapper\u001b[0m\u001b[0;34m\u001b[0m\u001b[0;34m\u001b[0m\u001b[0m\n",
            "\u001b[0;32m/usr/local/lib/python3.7/dist-packages/pandas/io/parsers/readers.py\u001b[0m in \u001b[0;36mread_csv\u001b[0;34m(filepath_or_buffer, sep, delimiter, header, names, index_col, usecols, squeeze, prefix, mangle_dupe_cols, dtype, engine, converters, true_values, false_values, skipinitialspace, skiprows, skipfooter, nrows, na_values, keep_default_na, na_filter, verbose, skip_blank_lines, parse_dates, infer_datetime_format, keep_date_col, date_parser, dayfirst, cache_dates, iterator, chunksize, compression, thousands, decimal, lineterminator, quotechar, quoting, doublequote, escapechar, comment, encoding, encoding_errors, dialect, error_bad_lines, warn_bad_lines, on_bad_lines, delim_whitespace, low_memory, memory_map, float_precision, storage_options)\u001b[0m\n\u001b[1;32m    584\u001b[0m     \u001b[0mkwds\u001b[0m\u001b[0;34m.\u001b[0m\u001b[0mupdate\u001b[0m\u001b[0;34m(\u001b[0m\u001b[0mkwds_defaults\u001b[0m\u001b[0;34m)\u001b[0m\u001b[0;34m\u001b[0m\u001b[0;34m\u001b[0m\u001b[0m\n\u001b[1;32m    585\u001b[0m \u001b[0;34m\u001b[0m\u001b[0m\n\u001b[0;32m--> 586\u001b[0;31m     \u001b[0;32mreturn\u001b[0m \u001b[0m_read\u001b[0m\u001b[0;34m(\u001b[0m\u001b[0mfilepath_or_buffer\u001b[0m\u001b[0;34m,\u001b[0m \u001b[0mkwds\u001b[0m\u001b[0;34m)\u001b[0m\u001b[0;34m\u001b[0m\u001b[0;34m\u001b[0m\u001b[0m\n\u001b[0m\u001b[1;32m    587\u001b[0m \u001b[0;34m\u001b[0m\u001b[0m\n\u001b[1;32m    588\u001b[0m \u001b[0;34m\u001b[0m\u001b[0m\n",
            "\u001b[0;32m/usr/local/lib/python3.7/dist-packages/pandas/io/parsers/readers.py\u001b[0m in \u001b[0;36m_read\u001b[0;34m(filepath_or_buffer, kwds)\u001b[0m\n\u001b[1;32m    480\u001b[0m \u001b[0;34m\u001b[0m\u001b[0m\n\u001b[1;32m    481\u001b[0m     \u001b[0;31m# Create the parser.\u001b[0m\u001b[0;34m\u001b[0m\u001b[0;34m\u001b[0m\u001b[0;34m\u001b[0m\u001b[0m\n\u001b[0;32m--> 482\u001b[0;31m     \u001b[0mparser\u001b[0m \u001b[0;34m=\u001b[0m \u001b[0mTextFileReader\u001b[0m\u001b[0;34m(\u001b[0m\u001b[0mfilepath_or_buffer\u001b[0m\u001b[0;34m,\u001b[0m \u001b[0;34m**\u001b[0m\u001b[0mkwds\u001b[0m\u001b[0;34m)\u001b[0m\u001b[0;34m\u001b[0m\u001b[0;34m\u001b[0m\u001b[0m\n\u001b[0m\u001b[1;32m    483\u001b[0m \u001b[0;34m\u001b[0m\u001b[0m\n\u001b[1;32m    484\u001b[0m     \u001b[0;32mif\u001b[0m \u001b[0mchunksize\u001b[0m \u001b[0;32mor\u001b[0m \u001b[0miterator\u001b[0m\u001b[0;34m:\u001b[0m\u001b[0;34m\u001b[0m\u001b[0;34m\u001b[0m\u001b[0m\n",
            "\u001b[0;32m/usr/local/lib/python3.7/dist-packages/pandas/io/parsers/readers.py\u001b[0m in \u001b[0;36m__init__\u001b[0;34m(self, f, engine, **kwds)\u001b[0m\n\u001b[1;32m    809\u001b[0m             \u001b[0mself\u001b[0m\u001b[0;34m.\u001b[0m\u001b[0moptions\u001b[0m\u001b[0;34m[\u001b[0m\u001b[0;34m\"has_index_names\"\u001b[0m\u001b[0;34m]\u001b[0m \u001b[0;34m=\u001b[0m \u001b[0mkwds\u001b[0m\u001b[0;34m[\u001b[0m\u001b[0;34m\"has_index_names\"\u001b[0m\u001b[0;34m]\u001b[0m\u001b[0;34m\u001b[0m\u001b[0;34m\u001b[0m\u001b[0m\n\u001b[1;32m    810\u001b[0m \u001b[0;34m\u001b[0m\u001b[0m\n\u001b[0;32m--> 811\u001b[0;31m         \u001b[0mself\u001b[0m\u001b[0;34m.\u001b[0m\u001b[0m_engine\u001b[0m \u001b[0;34m=\u001b[0m \u001b[0mself\u001b[0m\u001b[0;34m.\u001b[0m\u001b[0m_make_engine\u001b[0m\u001b[0;34m(\u001b[0m\u001b[0mself\u001b[0m\u001b[0;34m.\u001b[0m\u001b[0mengine\u001b[0m\u001b[0;34m)\u001b[0m\u001b[0;34m\u001b[0m\u001b[0;34m\u001b[0m\u001b[0m\n\u001b[0m\u001b[1;32m    812\u001b[0m \u001b[0;34m\u001b[0m\u001b[0m\n\u001b[1;32m    813\u001b[0m     \u001b[0;32mdef\u001b[0m \u001b[0mclose\u001b[0m\u001b[0;34m(\u001b[0m\u001b[0mself\u001b[0m\u001b[0;34m)\u001b[0m\u001b[0;34m:\u001b[0m\u001b[0;34m\u001b[0m\u001b[0;34m\u001b[0m\u001b[0m\n",
            "\u001b[0;32m/usr/local/lib/python3.7/dist-packages/pandas/io/parsers/readers.py\u001b[0m in \u001b[0;36m_make_engine\u001b[0;34m(self, engine)\u001b[0m\n\u001b[1;32m   1038\u001b[0m             )\n\u001b[1;32m   1039\u001b[0m         \u001b[0;31m# error: Too many arguments for \"ParserBase\"\u001b[0m\u001b[0;34m\u001b[0m\u001b[0;34m\u001b[0m\u001b[0;34m\u001b[0m\u001b[0m\n\u001b[0;32m-> 1040\u001b[0;31m         \u001b[0;32mreturn\u001b[0m \u001b[0mmapping\u001b[0m\u001b[0;34m[\u001b[0m\u001b[0mengine\u001b[0m\u001b[0;34m]\u001b[0m\u001b[0;34m(\u001b[0m\u001b[0mself\u001b[0m\u001b[0;34m.\u001b[0m\u001b[0mf\u001b[0m\u001b[0;34m,\u001b[0m \u001b[0;34m**\u001b[0m\u001b[0mself\u001b[0m\u001b[0;34m.\u001b[0m\u001b[0moptions\u001b[0m\u001b[0;34m)\u001b[0m  \u001b[0;31m# type: ignore[call-arg]\u001b[0m\u001b[0;34m\u001b[0m\u001b[0;34m\u001b[0m\u001b[0m\n\u001b[0m\u001b[1;32m   1041\u001b[0m \u001b[0;34m\u001b[0m\u001b[0m\n\u001b[1;32m   1042\u001b[0m     \u001b[0;32mdef\u001b[0m \u001b[0m_failover_to_python\u001b[0m\u001b[0;34m(\u001b[0m\u001b[0mself\u001b[0m\u001b[0;34m)\u001b[0m\u001b[0;34m:\u001b[0m\u001b[0;34m\u001b[0m\u001b[0;34m\u001b[0m\u001b[0m\n",
            "\u001b[0;32m/usr/local/lib/python3.7/dist-packages/pandas/io/parsers/c_parser_wrapper.py\u001b[0m in \u001b[0;36m__init__\u001b[0;34m(self, src, **kwds)\u001b[0m\n\u001b[1;32m     49\u001b[0m \u001b[0;34m\u001b[0m\u001b[0m\n\u001b[1;32m     50\u001b[0m         \u001b[0;31m# open handles\u001b[0m\u001b[0;34m\u001b[0m\u001b[0;34m\u001b[0m\u001b[0;34m\u001b[0m\u001b[0m\n\u001b[0;32m---> 51\u001b[0;31m         \u001b[0mself\u001b[0m\u001b[0;34m.\u001b[0m\u001b[0m_open_handles\u001b[0m\u001b[0;34m(\u001b[0m\u001b[0msrc\u001b[0m\u001b[0;34m,\u001b[0m \u001b[0mkwds\u001b[0m\u001b[0;34m)\u001b[0m\u001b[0;34m\u001b[0m\u001b[0;34m\u001b[0m\u001b[0m\n\u001b[0m\u001b[1;32m     52\u001b[0m         \u001b[0;32massert\u001b[0m \u001b[0mself\u001b[0m\u001b[0;34m.\u001b[0m\u001b[0mhandles\u001b[0m \u001b[0;32mis\u001b[0m \u001b[0;32mnot\u001b[0m \u001b[0;32mNone\u001b[0m\u001b[0;34m\u001b[0m\u001b[0;34m\u001b[0m\u001b[0m\n\u001b[1;32m     53\u001b[0m \u001b[0;34m\u001b[0m\u001b[0m\n",
            "\u001b[0;32m/usr/local/lib/python3.7/dist-packages/pandas/io/parsers/base_parser.py\u001b[0m in \u001b[0;36m_open_handles\u001b[0;34m(self, src, kwds)\u001b[0m\n\u001b[1;32m    227\u001b[0m             \u001b[0mmemory_map\u001b[0m\u001b[0;34m=\u001b[0m\u001b[0mkwds\u001b[0m\u001b[0;34m.\u001b[0m\u001b[0mget\u001b[0m\u001b[0;34m(\u001b[0m\u001b[0;34m\"memory_map\"\u001b[0m\u001b[0;34m,\u001b[0m \u001b[0;32mFalse\u001b[0m\u001b[0;34m)\u001b[0m\u001b[0;34m,\u001b[0m\u001b[0;34m\u001b[0m\u001b[0;34m\u001b[0m\u001b[0m\n\u001b[1;32m    228\u001b[0m             \u001b[0mstorage_options\u001b[0m\u001b[0;34m=\u001b[0m\u001b[0mkwds\u001b[0m\u001b[0;34m.\u001b[0m\u001b[0mget\u001b[0m\u001b[0;34m(\u001b[0m\u001b[0;34m\"storage_options\"\u001b[0m\u001b[0;34m,\u001b[0m \u001b[0;32mNone\u001b[0m\u001b[0;34m)\u001b[0m\u001b[0;34m,\u001b[0m\u001b[0;34m\u001b[0m\u001b[0;34m\u001b[0m\u001b[0m\n\u001b[0;32m--> 229\u001b[0;31m             \u001b[0merrors\u001b[0m\u001b[0;34m=\u001b[0m\u001b[0mkwds\u001b[0m\u001b[0;34m.\u001b[0m\u001b[0mget\u001b[0m\u001b[0;34m(\u001b[0m\u001b[0;34m\"encoding_errors\"\u001b[0m\u001b[0;34m,\u001b[0m \u001b[0;34m\"strict\"\u001b[0m\u001b[0;34m)\u001b[0m\u001b[0;34m,\u001b[0m\u001b[0;34m\u001b[0m\u001b[0;34m\u001b[0m\u001b[0m\n\u001b[0m\u001b[1;32m    230\u001b[0m         )\n\u001b[1;32m    231\u001b[0m \u001b[0;34m\u001b[0m\u001b[0m\n",
            "\u001b[0;32m/usr/local/lib/python3.7/dist-packages/pandas/io/common.py\u001b[0m in \u001b[0;36mget_handle\u001b[0;34m(path_or_buf, mode, encoding, compression, memory_map, is_text, errors, storage_options)\u001b[0m\n\u001b[1;32m    705\u001b[0m                 \u001b[0mencoding\u001b[0m\u001b[0;34m=\u001b[0m\u001b[0mioargs\u001b[0m\u001b[0;34m.\u001b[0m\u001b[0mencoding\u001b[0m\u001b[0;34m,\u001b[0m\u001b[0;34m\u001b[0m\u001b[0;34m\u001b[0m\u001b[0m\n\u001b[1;32m    706\u001b[0m                 \u001b[0merrors\u001b[0m\u001b[0;34m=\u001b[0m\u001b[0merrors\u001b[0m\u001b[0;34m,\u001b[0m\u001b[0;34m\u001b[0m\u001b[0;34m\u001b[0m\u001b[0m\n\u001b[0;32m--> 707\u001b[0;31m                 \u001b[0mnewline\u001b[0m\u001b[0;34m=\u001b[0m\u001b[0;34m\"\"\u001b[0m\u001b[0;34m,\u001b[0m\u001b[0;34m\u001b[0m\u001b[0;34m\u001b[0m\u001b[0m\n\u001b[0m\u001b[1;32m    708\u001b[0m             )\n\u001b[1;32m    709\u001b[0m         \u001b[0;32melse\u001b[0m\u001b[0;34m:\u001b[0m\u001b[0;34m\u001b[0m\u001b[0;34m\u001b[0m\u001b[0m\n",
            "\u001b[0;31mFileNotFoundError\u001b[0m: [Errno 2] No such file or directory: './y2_e2.txt'"
          ]
        }
      ],
      "source": [
        "\n",
        "dataset_e1= pd.read_csv(\"./stand_norm_e1.txt\",delimiter=\" \",header=None)\n",
        "dataset_e1=numpy.array(dataset_e1,float)\n",
        "\n",
        "X_e1 = dataset_e1[:,(0,1,2,3,4,5,6)]\n",
        "#m=np.max(X_e1)\n",
        "print(X_e1.shape)\n",
        "dataset_e2= pd.read_csv(\"./stand_norm_e2.txt\",delimiter=\" \",header=None)\n",
        "dataset_e2=numpy.array(dataset_e2,float)\n",
        "\n",
        "X_e2 = dataset_e2[:,(0,1,2,3,4,5,6)]\n",
        "#n=np.max(X_e2)\n",
        "#X_e2=X_e2/n\n",
        "print(X_e2.shape)\n",
        "'''normalizing data with MinMaxScaler'''\n",
        "#scaler = preprocessing.MinMaxScaler()\n",
        "#X_e1_scaled = scaler.fit_transform(X_e1)\n",
        "#X_e2_scaled = scaler.fit_transform(X_e2)\n",
        "\n",
        "\n",
        "x_train_test=np.zeros((X_e1.shape[0],X_e1.shape[1],2))\n",
        "x_train_test[:,:,0]=X_e1\n",
        "x_train_test[:,:,1]=X_e2\n",
        "print(x_train_test.shape)\n",
        "\n",
        "\n",
        "#print(x_test.shape)\n",
        "dataset_output= pd.read_csv(\"./y2_e2.txt\",delimiter=\" \",header=None)\n",
        "dataset_output=numpy.array(dataset_output,float)\n",
        "dataset_output_new= dataset_output.reshape(dataset_output.shape[0], )"
      ]
    },
    {
      "cell_type": "code",
      "source": [
        "print(x_train_test)"
      ],
      "metadata": {
        "colab": {
          "base_uri": "https://localhost:8080/"
        },
        "id": "2Vb2k4ttC81T",
        "outputId": "12c2cdee-27e4-47cd-dc1f-78756bd83665"
      },
      "execution_count": null,
      "outputs": [
        {
          "output_type": "stream",
          "name": "stdout",
          "text": [
            "[[[-0.38244  -0.480229]\n",
            "  [ 0.505189  1.716631]\n",
            "  [ 0.217562  0.354079]\n",
            "  ...\n",
            "  [-0.455253 -0.460837]\n",
            "  [-0.360255 -0.457283]\n",
            "  [-0.267133 -0.267133]]\n",
            "\n",
            " [[-0.424772 -0.494075]\n",
            "  [ 0.023558  1.887786]\n",
            "  [ 0.183694  0.643721]\n",
            "  ...\n",
            "  [-0.465147 -0.384227]\n",
            "  [-0.399712 -0.476274]\n",
            "  [-0.308448 -0.308448]]\n",
            "\n",
            " [[ 0.781768 -0.275606]\n",
            "  [ 0.236212  1.479074]\n",
            "  [ 0.192097  1.047914]\n",
            "  ...\n",
            "  [ 0.304319 -0.607677]\n",
            "  [ 0.812264 -0.229191]\n",
            "  [-0.349159 -0.349159]]\n",
            "\n",
            " ...\n",
            "\n",
            " [[-0.382491 -0.482518]\n",
            "  [-0.24978  -0.280554]\n",
            "  [-0.255483 -0.530712]\n",
            "  ...\n",
            "  [-0.377275 -0.428467]\n",
            "  [-0.350391 -0.43643 ]\n",
            "  [ 1.227973  1.227973]]\n",
            "\n",
            " [[-0.252338 -0.057465]\n",
            "  [-0.192436 -0.041017]\n",
            "  [-0.156271  0.648364]\n",
            "  ...\n",
            "  [-0.039089  0.673583]\n",
            "  [-0.25583  -0.194975]\n",
            "  [ 1.250906  1.250906]]\n",
            "\n",
            " [[-0.397746 -0.459311]\n",
            "  [-0.248198 -0.354015]\n",
            "  [-0.268403 -0.413529]\n",
            "  ...\n",
            "  [-0.343039 -0.303634]\n",
            "  [-0.370069 -0.430366]\n",
            "  [ 1.274114  1.274114]]]\n"
          ]
        }
      ]
    },
    {
      "cell_type": "markdown",
      "metadata": {
        "id": "coCWpugis3xo"
      },
      "source": [
        "**Répartition entre l'apprentissage et test**"
      ]
    },
    {
      "cell_type": "code",
      "execution_count": null,
      "metadata": {
        "id": "_PnvFwYkYNTU"
      },
      "outputs": [],
      "source": [
        "from sklearn.model_selection import train_test_split\n",
        "x_train, x_test, y_train, y_test = train_test_split(x_train_test, dataset_output_new, test_size=0.10, random_state=45)"
      ]
    },
    {
      "cell_type": "code",
      "source": [
        "x_train_new=x_train\n",
        "x_test_new=x_test"
      ],
      "metadata": {
        "id": "BlioLus1Mlru"
      },
      "execution_count": null,
      "outputs": []
    },
    {
      "cell_type": "markdown",
      "metadata": {
        "id": "yiJy0EoltJ1L"
      },
      "source": [
        "**Préparation des sorties du modèle**"
      ]
    },
    {
      "cell_type": "code",
      "execution_count": null,
      "metadata": {
        "id": "6xvAiyJEYjYB",
        "colab": {
          "base_uri": "https://localhost:8080/"
        },
        "outputId": "ebad5460-e75d-4cf2-a26f-39a59571ab37"
      },
      "outputs": [
        {
          "output_type": "stream",
          "name": "stdout",
          "text": [
            "(12385,)\n",
            "(12385, 3)\n"
          ]
        }
      ],
      "source": [
        "\n",
        "print(y_train.shape)\n",
        "\n",
        "Y_train_new = tensorflow.keras.utils.to_categorical( y_train)\n",
        "Y_test_new = tensorflow.keras.utils.to_categorical(y_test)\n",
        "print(Y_train_new.shape)"
      ]
    },
    {
      "cell_type": "code",
      "execution_count": null,
      "metadata": {
        "id": "fbU0MxfC4eJf",
        "colab": {
          "base_uri": "https://localhost:8080/"
        },
        "outputId": "7e531681-6d8e-4517-fe5a-99fe9c12ae3a"
      },
      "outputs": [
        {
          "output_type": "stream",
          "name": "stdout",
          "text": [
            "[0. 1. 1. ... 1. 1. 1.]\n"
          ]
        }
      ],
      "source": [
        "print(y_test)"
      ]
    },
    {
      "cell_type": "markdown",
      "metadata": {
        "id": "qKmwmgbutObe"
      },
      "source": [
        "**Préparation des entrées du modèle**"
      ]
    },
    {
      "cell_type": "code",
      "execution_count": null,
      "metadata": {
        "id": "NGWS5nbAYpHI",
        "colab": {
          "base_uri": "https://localhost:8080/"
        },
        "outputId": "548d7709-9aaa-4b43-cd43-184aab88fa72"
      },
      "outputs": [
        {
          "output_type": "stream",
          "name": "stdout",
          "text": [
            "(12385, 7, 2)\n",
            "(12385, 7, 2)\n"
          ]
        }
      ],
      "source": [
        "print (x_train_new.shape)\n",
        "x_train_new=x_train_new.reshape(x_train_new.shape[0],  x_train_new.shape[1], 2)\n",
        "x_test_new = x_test_new.reshape(x_test_new.shape[0], x_test_new.shape[1],2 )\n",
        "print (x_train_new.shape)"
      ]
    },
    {
      "cell_type": "markdown",
      "metadata": {
        "id": "fDcfBrjptSH0"
      },
      "source": [
        "**Construction du modèle**"
      ]
    },
    {
      "cell_type": "code",
      "execution_count": null,
      "metadata": {
        "id": "k1WdZkYqYtlb"
      },
      "outputs": [],
      "source": [
        "from pandas.core.arrays import categorical\n",
        "def objective(trial):\n",
        "  #from tensorflow.keras.layers import Dense, Dropout,Conv1D, MaxPooling1D,Flatten,BatchNormalization\n",
        "  model = Sequential()\n",
        "  model.add(Conv1D(filters=trial.suggest-categorical(\"filters\",[32,64,128,256,512]),kernel_size=trial.suggest_categorical(\"kernel_size\",[1,3]),input_shape=input_shape,data_format='channels_first',activation=trial.suggest_categorical(\"activation\",[\"relu\",\"sigmoid\",\"tanh\"])))\n",
        "  model.add(BatchNormalization())\n",
        "  model.add(Conv1D(filters=trial.suggest-categorical(\"filters\",[32,64,128,256,512]), kernel_size=trial.suggest_categorical(\"kernel_size\",[1,3]), activation=trial.suggest_categorical(\"activation\",[\"relu\",\"sigmoid\",\"tanh\"],padding='same')))\n",
        "  model.add(BatchNormalization())\n",
        "  model.add(Conv1D(filters=trial.suggest-categorical(\"filters\",[32,64,128,256,512]), kernel_size=trial.suggest_categorical(\"kernel_size\",[1,3]), activation=trial.suggest_categorical(\"activation\",[\"relu\",\"sigmoid\",\"tanh\"],padding='same')))\n",
        "  model.add(MaxPooling1D(pool_size=2,strides=True))\n",
        "  model.add(Dropout(0.4))#0.3\n",
        "\n",
        "  model.add(Conv1D(filters=trial.suggest-categorical(\"filters\",[32,64,128,256,512]), kernel_size=trial.suggest_categorical(\"kernel_size\",[1,3]), activation=trial.suggest_categorical(\"activation\",[\"relu\",\"sigmoid\",\"tanh\"],padding='same')))\n",
        "  model.add(MaxPooling1D(pool_size=2,strides=True))\n",
        "  model.add(Dropout(0.4))#0.3\n",
        "\n",
        "  model.add(Conv1D(filters=trial.suggest-categorical(\"filters\",[32,64,128,256,512]), kernel_size=trial.suggest_categorical(\"kernel_size\",[1,3]), activation=trial.suggest_categorical(\"activation\",[\"relu\",\"sigmoid\",\"tanh\"],padding='same')))\n",
        "  model.add(MaxPooling1D(pool_size=2,strides=True))\n",
        "  model.add(Dropout(0.4))#0.3\n",
        "\n",
        "\n",
        "  model.add(Conv1D(filters=trial.suggest-categorical(\"filters\",[32,64,128,256,512]), kernel_size=trial.suggest_categorical(\"kernel_size\",[1,3]), activation=trial.suggest_categorical(\"activation\",[\"relu\",\"sigmoid\",\"tanh\"],padding='same')))\n",
        "  model.add(MaxPooling1D(pool_size=2,strides=None))\n",
        "  model.add(Dropout(0.4))#0.4\n",
        "\n",
        "\n",
        "\n",
        "\n",
        "\n",
        "  model.add(Flatten()) # Flatten is the input layer of the Fully Connected\n",
        "\n",
        "\n",
        "  model.add(Dense(200, activation='relu')) # 100 \n",
        "  lr=trial.suggest_float(\"lr\",1e-5,1e-1,log=True)\n",
        "  model.compile(loss=tensorflow.keras.losses.categorical_crossentropy,\n",
        "              optimizer=tensorflow.keras.optimizers.Adam(),\n",
        "              metrics=[\"accuracy\", tf.keras.metrics.Precision(), tf.keras.metrics.Recall()])\n",
        "  history =model.fit(x_train_new, Y_train_new, epochs=200, batch_size=1024, verbose=1, validation_split=0.15, callbacks=[checkpointer])\n",
        "  score = model.evaluate(x_test_new, Y_test_new, verbose=1)\n",
        "  model.add(BatchNormalization())\n",
        "  model.add(Dropout(0.5))#0.4\n",
        "\n",
        "  model.add(Dense(100, activation='relu')) # 100 \n",
        "  model.add(BatchNormalization())\n",
        "  model.add(Dropout(0.5))#0.4\n",
        "\n",
        "#model.add(Dense(2, activation='softmax'))\n",
        "  model.add(Dense(3, activation='softmax',kernel_regularizer=regularizers.l2(0.001)))"
      ]
    },
    {
      "cell_type": "code",
      "source": [
        "!pip install --quiet optuna\n",
        "import optuna \n",
        "from optuna.visualization.plot_contour\n",
        "from optuna.visualization.plot_edf\n",
        "from optuna.visualization.plot_intermediate_values\n",
        "optuna.visualization.plot_optimization_history\n",
        "study=optuna.create_study(sampler=optuna.samplers.RandomSampler(),direction=\"maximize\")\n",
        "study.optimize(objective,n_trials=10)\n",
        "print(\"Number of finished trials:{}\".format(len))"
      ],
      "metadata": {
        "id": "7yE366qgQHXB"
      },
      "execution_count": null,
      "outputs": []
    },
    {
      "cell_type": "code",
      "execution_count": null,
      "metadata": {
        "id": "uWtyc6X9nFHg",
        "colab": {
          "base_uri": "https://localhost:8080/"
        },
        "outputId": "27d891f2-c40d-44f2-a272-cc7f405856ce"
      },
      "outputs": [
        {
          "output_type": "stream",
          "name": "stdout",
          "text": [
            "Model: \"sequential\"\n",
            "_________________________________________________________________\n",
            " Layer (type)                Output Shape              Param #   \n",
            "=================================================================\n",
            " conv1d (Conv1D)             (None, 7, 32)             224       \n",
            "                                                                 \n",
            " batch_normalization (BatchN  (None, 7, 32)            128       \n",
            " ormalization)                                                   \n",
            "                                                                 \n",
            " conv1d_1 (Conv1D)           (None, 7, 64)             6208      \n",
            "                                                                 \n",
            " batch_normalization_1 (Batc  (None, 7, 64)            256       \n",
            " hNormalization)                                                 \n",
            "                                                                 \n",
            " conv1d_2 (Conv1D)           (None, 7, 128)            24704     \n",
            "                                                                 \n",
            " max_pooling1d (MaxPooling1D  (None, 6, 128)           0         \n",
            " )                                                               \n",
            "                                                                 \n",
            " dropout (Dropout)           (None, 6, 128)            0         \n",
            "                                                                 \n",
            " conv1d_3 (Conv1D)           (None, 6, 256)            98560     \n",
            "                                                                 \n",
            " max_pooling1d_1 (MaxPooling  (None, 5, 256)           0         \n",
            " 1D)                                                             \n",
            "                                                                 \n",
            " dropout_1 (Dropout)         (None, 5, 256)            0         \n",
            "                                                                 \n",
            " conv1d_4 (Conv1D)           (None, 5, 512)            393728    \n",
            "                                                                 \n",
            " max_pooling1d_2 (MaxPooling  (None, 4, 512)           0         \n",
            " 1D)                                                             \n",
            "                                                                 \n",
            " dropout_2 (Dropout)         (None, 4, 512)            0         \n",
            "                                                                 \n",
            " conv1d_5 (Conv1D)           (None, 4, 1024)           1573888   \n",
            "                                                                 \n",
            " max_pooling1d_3 (MaxPooling  (None, 2, 1024)          0         \n",
            " 1D)                                                             \n",
            "                                                                 \n",
            " dropout_3 (Dropout)         (None, 2, 1024)           0         \n",
            "                                                                 \n",
            " flatten (Flatten)           (None, 2048)              0         \n",
            "                                                                 \n",
            " dense (Dense)               (None, 200)               409800    \n",
            "                                                                 \n",
            " batch_normalization_2 (Batc  (None, 200)              800       \n",
            " hNormalization)                                                 \n",
            "                                                                 \n",
            " dropout_4 (Dropout)         (None, 200)               0         \n",
            "                                                                 \n",
            " dense_1 (Dense)             (None, 100)               20100     \n",
            "                                                                 \n",
            " batch_normalization_3 (Batc  (None, 100)              400       \n",
            " hNormalization)                                                 \n",
            "                                                                 \n",
            " dropout_5 (Dropout)         (None, 100)               0         \n",
            "                                                                 \n",
            " dense_2 (Dense)             (None, 3)                 303       \n",
            "                                                                 \n",
            "=================================================================\n",
            "Total params: 2,529,099\n",
            "Trainable params: 2,528,307\n",
            "Non-trainable params: 792\n",
            "_________________________________________________________________\n"
          ]
        }
      ],
      "source": [
        "model.summary()"
      ]
    },
    {
      "cell_type": "code",
      "source": [
        "model.compile(loss=tensorflow.keras.losses.categorical_crossentropy,\n",
        "              optimizer=tensorflow.keras.optimizers.Adam(),\n",
        "              metrics=[\"accuracy\", tf.keras.metrics.Precision(), tf.keras.metrics.Recall()])"
      ],
      "metadata": {
        "id": "uEvhtssEHCdA"
      },
      "execution_count": null,
      "outputs": []
    },
    {
      "cell_type": "markdown",
      "metadata": {
        "id": "1H0zXxANtW_O"
      },
      "source": [
        "**Effectuer l'apprentissage**"
      ]
    },
    {
      "cell_type": "code",
      "execution_count": null,
      "metadata": {
        "id": "RAy_wUN3Y2TX",
        "colab": {
          "base_uri": "https://localhost:8080/"
        },
        "outputId": "e24cdcb9-e200-4842-d5e9-ff2b63cc7200"
      },
      "outputs": [
        {
          "output_type": "stream",
          "name": "stdout",
          "text": [
            "Epoch 1/200\n",
            "11/11 [==============================] - ETA: 0s - loss: 1.5431 - accuracy: 0.3920 - precision: 0.4033 - recall: 0.2887\n",
            "Epoch 1: val_loss improved from inf to 1.05065, saving model to ./_best_weights.h5\n",
            "11/11 [==============================] - 19s 221ms/step - loss: 1.5431 - accuracy: 0.3920 - precision: 0.4033 - recall: 0.2887 - val_loss: 1.0507 - val_accuracy: 0.6028 - val_precision: 0.4795 - val_recall: 0.0188\n",
            "Epoch 2/200\n",
            "11/11 [==============================] - ETA: 0s - loss: 1.2291 - accuracy: 0.4930 - precision: 0.5387 - recall: 0.3281\n",
            "Epoch 2: val_loss improved from 1.05065 to 1.00456, saving model to ./_best_weights.h5\n",
            "11/11 [==============================] - 1s 58ms/step - loss: 1.2291 - accuracy: 0.4930 - precision: 0.5387 - recall: 0.3281 - val_loss: 1.0046 - val_accuracy: 0.6098 - val_precision: 0.6368 - val_recall: 0.0651\n",
            "Epoch 3/200\n",
            "11/11 [==============================] - ETA: 0s - loss: 1.0559 - accuracy: 0.6226 - precision: 0.6737 - recall: 0.4974\n",
            "Epoch 3: val_loss improved from 1.00456 to 0.94590, saving model to ./_best_weights.h5\n",
            "11/11 [==============================] - 1s 58ms/step - loss: 1.0559 - accuracy: 0.6226 - precision: 0.6737 - recall: 0.4974 - val_loss: 0.9459 - val_accuracy: 0.5963 - val_precision: 0.6645 - val_recall: 0.4456\n",
            "Epoch 4/200\n",
            "11/11 [==============================] - ETA: 0s - loss: 0.9359 - accuracy: 0.7008 - precision: 0.7361 - recall: 0.6190\n",
            "Epoch 4: val_loss did not improve from 0.94590\n",
            "11/11 [==============================] - 0s 45ms/step - loss: 0.9359 - accuracy: 0.7008 - precision: 0.7361 - recall: 0.6190 - val_loss: 0.9867 - val_accuracy: 0.5226 - val_precision: 0.5528 - val_recall: 0.5043\n",
            "Epoch 5/200\n",
            "11/11 [==============================] - ETA: 0s - loss: 0.8534 - accuracy: 0.7274 - precision: 0.7572 - recall: 0.6613\n",
            "Epoch 5: val_loss did not improve from 0.94590\n",
            "11/11 [==============================] - 0s 44ms/step - loss: 0.8534 - accuracy: 0.7274 - precision: 0.7572 - recall: 0.6613 - val_loss: 1.0542 - val_accuracy: 0.5145 - val_precision: 0.5152 - val_recall: 0.5113\n",
            "Epoch 6/200\n",
            "11/11 [==============================] - ETA: 0s - loss: 0.8007 - accuracy: 0.7501 - precision: 0.7713 - recall: 0.6948\n",
            "Epoch 6: val_loss did not improve from 0.94590\n",
            "11/11 [==============================] - 0s 44ms/step - loss: 0.8007 - accuracy: 0.7501 - precision: 0.7713 - recall: 0.6948 - val_loss: 1.0745 - val_accuracy: 0.5135 - val_precision: 0.5135 - val_recall: 0.5135\n",
            "Epoch 7/200\n",
            "11/11 [==============================] - ETA: 0s - loss: 0.7398 - accuracy: 0.7543 - precision: 0.7765 - recall: 0.7093\n",
            "Epoch 7: val_loss did not improve from 0.94590\n",
            "11/11 [==============================] - 0s 43ms/step - loss: 0.7398 - accuracy: 0.7543 - precision: 0.7765 - recall: 0.7093 - val_loss: 1.0736 - val_accuracy: 0.5135 - val_precision: 0.5135 - val_recall: 0.5135\n",
            "Epoch 8/200\n",
            "11/11 [==============================] - ETA: 0s - loss: 0.7013 - accuracy: 0.7706 - precision: 0.7848 - recall: 0.7326\n",
            "Epoch 8: val_loss did not improve from 0.94590\n",
            "11/11 [==============================] - 0s 43ms/step - loss: 0.7013 - accuracy: 0.7706 - precision: 0.7848 - recall: 0.7326 - val_loss: 1.0870 - val_accuracy: 0.5135 - val_precision: 0.5135 - val_recall: 0.5135\n",
            "Epoch 9/200\n",
            "11/11 [==============================] - ETA: 0s - loss: 0.6721 - accuracy: 0.7761 - precision: 0.7920 - recall: 0.7436\n",
            "Epoch 9: val_loss did not improve from 0.94590\n",
            "11/11 [==============================] - 0s 43ms/step - loss: 0.6721 - accuracy: 0.7761 - precision: 0.7920 - recall: 0.7436 - val_loss: 1.0723 - val_accuracy: 0.5140 - val_precision: 0.5137 - val_recall: 0.5135\n",
            "Epoch 10/200\n",
            "11/11 [==============================] - ETA: 0s - loss: 0.6472 - accuracy: 0.7769 - precision: 0.7924 - recall: 0.7475\n",
            "Epoch 10: val_loss did not improve from 0.94590\n",
            "11/11 [==============================] - 0s 43ms/step - loss: 0.6472 - accuracy: 0.7769 - precision: 0.7924 - recall: 0.7475 - val_loss: 1.0391 - val_accuracy: 0.5135 - val_precision: 0.5135 - val_recall: 0.5135\n",
            "Epoch 11/200\n",
            "11/11 [==============================] - ETA: 0s - loss: 0.6281 - accuracy: 0.7804 - precision: 0.7955 - recall: 0.7538\n",
            "Epoch 11: val_loss did not improve from 0.94590\n",
            "11/11 [==============================] - 0s 43ms/step - loss: 0.6281 - accuracy: 0.7804 - precision: 0.7955 - recall: 0.7538 - val_loss: 1.0505 - val_accuracy: 0.5135 - val_precision: 0.5135 - val_recall: 0.5135\n",
            "Epoch 12/200\n",
            "11/11 [==============================] - ETA: 0s - loss: 0.6113 - accuracy: 0.7859 - precision: 0.7979 - recall: 0.7604\n",
            "Epoch 12: val_loss did not improve from 0.94590\n",
            "11/11 [==============================] - 0s 43ms/step - loss: 0.6113 - accuracy: 0.7859 - precision: 0.7979 - recall: 0.7604 - val_loss: 1.0505 - val_accuracy: 0.5135 - val_precision: 0.5135 - val_recall: 0.5135\n",
            "Epoch 13/200\n",
            "11/11 [==============================] - ETA: 0s - loss: 0.5791 - accuracy: 0.7901 - precision: 0.8035 - recall: 0.7678\n",
            "Epoch 13: val_loss did not improve from 0.94590\n",
            "11/11 [==============================] - 0s 44ms/step - loss: 0.5791 - accuracy: 0.7901 - precision: 0.8035 - recall: 0.7678 - val_loss: 1.0538 - val_accuracy: 0.5135 - val_precision: 0.5135 - val_recall: 0.5135\n",
            "Epoch 14/200\n",
            "11/11 [==============================] - ETA: 0s - loss: 0.5721 - accuracy: 0.7923 - precision: 0.8037 - recall: 0.7727\n",
            "Epoch 14: val_loss did not improve from 0.94590\n",
            "11/11 [==============================] - 0s 45ms/step - loss: 0.5721 - accuracy: 0.7923 - precision: 0.8037 - recall: 0.7727 - val_loss: 1.0724 - val_accuracy: 0.5135 - val_precision: 0.5135 - val_recall: 0.5135\n",
            "Epoch 15/200\n",
            "11/11 [==============================] - ETA: 0s - loss: 0.5404 - accuracy: 0.7968 - precision: 0.8088 - recall: 0.7798\n",
            "Epoch 15: val_loss did not improve from 0.94590\n",
            "11/11 [==============================] - 0s 44ms/step - loss: 0.5404 - accuracy: 0.7968 - precision: 0.8088 - recall: 0.7798 - val_loss: 1.0517 - val_accuracy: 0.5135 - val_precision: 0.5135 - val_recall: 0.5135\n",
            "Epoch 16/200\n",
            "11/11 [==============================] - ETA: 0s - loss: 0.5417 - accuracy: 0.7985 - precision: 0.8097 - recall: 0.7807\n",
            "Epoch 16: val_loss did not improve from 0.94590\n",
            "11/11 [==============================] - 0s 44ms/step - loss: 0.5417 - accuracy: 0.7985 - precision: 0.8097 - recall: 0.7807 - val_loss: 1.0674 - val_accuracy: 0.5140 - val_precision: 0.5137 - val_recall: 0.5135\n",
            "Epoch 17/200\n",
            "11/11 [==============================] - ETA: 0s - loss: 0.5234 - accuracy: 0.8032 - precision: 0.8117 - recall: 0.7884\n",
            "Epoch 17: val_loss did not improve from 0.94590\n",
            "11/11 [==============================] - 0s 44ms/step - loss: 0.5234 - accuracy: 0.8032 - precision: 0.8117 - recall: 0.7884 - val_loss: 1.0618 - val_accuracy: 0.5140 - val_precision: 0.5143 - val_recall: 0.5135\n",
            "Epoch 18/200\n",
            "11/11 [==============================] - ETA: 0s - loss: 0.4929 - accuracy: 0.8129 - precision: 0.8232 - recall: 0.7971\n",
            "Epoch 18: val_loss did not improve from 0.94590\n",
            "11/11 [==============================] - 0s 45ms/step - loss: 0.4929 - accuracy: 0.8129 - precision: 0.8232 - recall: 0.7971 - val_loss: 1.0540 - val_accuracy: 0.5178 - val_precision: 0.5180 - val_recall: 0.5178\n",
            "Epoch 19/200\n",
            "11/11 [==============================] - ETA: 0s - loss: 0.4947 - accuracy: 0.8124 - precision: 0.8199 - recall: 0.7977\n",
            "Epoch 19: val_loss did not improve from 0.94590\n",
            "11/11 [==============================] - 0s 44ms/step - loss: 0.4947 - accuracy: 0.8124 - precision: 0.8199 - recall: 0.7977 - val_loss: 1.0912 - val_accuracy: 0.5178 - val_precision: 0.5178 - val_recall: 0.5172\n",
            "Epoch 20/200\n",
            "11/11 [==============================] - ETA: 0s - loss: 0.4891 - accuracy: 0.8142 - precision: 0.8217 - recall: 0.8017\n",
            "Epoch 20: val_loss did not improve from 0.94590\n",
            "11/11 [==============================] - 0s 44ms/step - loss: 0.4891 - accuracy: 0.8142 - precision: 0.8217 - recall: 0.8017 - val_loss: 1.0874 - val_accuracy: 0.5194 - val_precision: 0.5192 - val_recall: 0.5178\n",
            "Epoch 21/200\n",
            "11/11 [==============================] - ETA: 0s - loss: 0.4777 - accuracy: 0.8195 - precision: 0.8272 - recall: 0.8078\n",
            "Epoch 21: val_loss did not improve from 0.94590\n",
            "11/11 [==============================] - 0s 45ms/step - loss: 0.4777 - accuracy: 0.8195 - precision: 0.8272 - recall: 0.8078 - val_loss: 1.0396 - val_accuracy: 0.5242 - val_precision: 0.5240 - val_recall: 0.5231\n",
            "Epoch 22/200\n",
            "11/11 [==============================] - ETA: 0s - loss: 0.4637 - accuracy: 0.8159 - precision: 0.8236 - recall: 0.8035\n",
            "Epoch 22: val_loss did not improve from 0.94590\n",
            "11/11 [==============================] - 0s 44ms/step - loss: 0.4637 - accuracy: 0.8159 - precision: 0.8236 - recall: 0.8035 - val_loss: 1.0651 - val_accuracy: 0.5264 - val_precision: 0.5259 - val_recall: 0.5253\n",
            "Epoch 23/200\n",
            "11/11 [==============================] - ETA: 0s - loss: 0.4631 - accuracy: 0.8168 - precision: 0.8233 - recall: 0.8063\n",
            "Epoch 23: val_loss did not improve from 0.94590\n",
            "11/11 [==============================] - 0s 44ms/step - loss: 0.4631 - accuracy: 0.8168 - precision: 0.8233 - recall: 0.8063 - val_loss: 1.0744 - val_accuracy: 0.5285 - val_precision: 0.5291 - val_recall: 0.5280\n",
            "Epoch 24/200\n",
            "11/11 [==============================] - ETA: 0s - loss: 0.4466 - accuracy: 0.8196 - precision: 0.8253 - recall: 0.8077\n",
            "Epoch 24: val_loss did not improve from 0.94590\n",
            "11/11 [==============================] - 0s 45ms/step - loss: 0.4466 - accuracy: 0.8196 - precision: 0.8253 - recall: 0.8077 - val_loss: 1.0838 - val_accuracy: 0.5323 - val_precision: 0.5324 - val_recall: 0.5301\n",
            "Epoch 25/200\n",
            "10/11 [==========================>...] - ETA: 0s - loss: 0.4412 - accuracy: 0.8247 - precision: 0.8309 - recall: 0.8150\n",
            "Epoch 25: val_loss did not improve from 0.94590\n",
            "11/11 [==============================] - 0s 45ms/step - loss: 0.4400 - accuracy: 0.8246 - precision: 0.8309 - recall: 0.8151 - val_loss: 0.9790 - val_accuracy: 0.5608 - val_precision: 0.5616 - val_recall: 0.5597\n",
            "Epoch 26/200\n",
            "11/11 [==============================] - ETA: 0s - loss: 0.4261 - accuracy: 0.8259 - precision: 0.8319 - recall: 0.8183\n",
            "Epoch 26: val_loss did not improve from 0.94590\n",
            "11/11 [==============================] - 0s 45ms/step - loss: 0.4261 - accuracy: 0.8259 - precision: 0.8319 - recall: 0.8183 - val_loss: 0.9995 - val_accuracy: 0.5544 - val_precision: 0.5539 - val_recall: 0.5527\n",
            "Epoch 27/200\n",
            "11/11 [==============================] - ETA: 0s - loss: 0.4183 - accuracy: 0.8306 - precision: 0.8356 - recall: 0.8226\n",
            "Epoch 27: val_loss did not improve from 0.94590\n",
            "11/11 [==============================] - 0s 45ms/step - loss: 0.4183 - accuracy: 0.8306 - precision: 0.8356 - recall: 0.8226 - val_loss: 1.0041 - val_accuracy: 0.5646 - val_precision: 0.5661 - val_recall: 0.5646\n",
            "Epoch 28/200\n",
            "11/11 [==============================] - ETA: 0s - loss: 0.4155 - accuracy: 0.8282 - precision: 0.8329 - recall: 0.8198\n",
            "Epoch 28: val_loss did not improve from 0.94590\n",
            "11/11 [==============================] - 0s 45ms/step - loss: 0.4155 - accuracy: 0.8282 - precision: 0.8329 - recall: 0.8198 - val_loss: 1.0361 - val_accuracy: 0.5576 - val_precision: 0.5589 - val_recall: 0.5565\n",
            "Epoch 29/200\n",
            "11/11 [==============================] - ETA: 0s - loss: 0.4011 - accuracy: 0.8385 - precision: 0.8422 - recall: 0.8319\n",
            "Epoch 29: val_loss did not improve from 0.94590\n",
            "11/11 [==============================] - 0s 44ms/step - loss: 0.4011 - accuracy: 0.8385 - precision: 0.8422 - recall: 0.8319 - val_loss: 1.0590 - val_accuracy: 0.5554 - val_precision: 0.5564 - val_recall: 0.5549\n",
            "Epoch 30/200\n",
            "11/11 [==============================] - ETA: 0s - loss: 0.4012 - accuracy: 0.8313 - precision: 0.8355 - recall: 0.8257\n",
            "Epoch 30: val_loss improved from 0.94590 to 0.92666, saving model to ./_best_weights.h5\n",
            "11/11 [==============================] - 1s 57ms/step - loss: 0.4012 - accuracy: 0.8313 - precision: 0.8355 - recall: 0.8257 - val_loss: 0.9267 - val_accuracy: 0.5813 - val_precision: 0.5815 - val_recall: 0.5797\n",
            "Epoch 31/200\n",
            "11/11 [==============================] - ETA: 0s - loss: 0.4003 - accuracy: 0.8366 - precision: 0.8408 - recall: 0.8291\n",
            "Epoch 31: val_loss did not improve from 0.92666\n",
            "11/11 [==============================] - 0s 44ms/step - loss: 0.4003 - accuracy: 0.8366 - precision: 0.8408 - recall: 0.8291 - val_loss: 0.9857 - val_accuracy: 0.5813 - val_precision: 0.5814 - val_recall: 0.5802\n",
            "Epoch 32/200\n",
            "11/11 [==============================] - ETA: 0s - loss: 0.3856 - accuracy: 0.8420 - precision: 0.8459 - recall: 0.8360\n",
            "Epoch 32: val_loss improved from 0.92666 to 0.92394, saving model to ./_best_weights.h5\n",
            "11/11 [==============================] - 1s 58ms/step - loss: 0.3856 - accuracy: 0.8420 - precision: 0.8459 - recall: 0.8360 - val_loss: 0.9239 - val_accuracy: 0.5818 - val_precision: 0.5832 - val_recall: 0.5813\n",
            "Epoch 33/200\n",
            "11/11 [==============================] - ETA: 0s - loss: 0.3890 - accuracy: 0.8401 - precision: 0.8449 - recall: 0.8347\n",
            "Epoch 33: val_loss did not improve from 0.92394\n",
            "11/11 [==============================] - 0s 45ms/step - loss: 0.3890 - accuracy: 0.8401 - precision: 0.8449 - recall: 0.8347 - val_loss: 0.9435 - val_accuracy: 0.5915 - val_precision: 0.5914 - val_recall: 0.5904\n",
            "Epoch 34/200\n",
            "11/11 [==============================] - ETA: 0s - loss: 0.3774 - accuracy: 0.8424 - precision: 0.8457 - recall: 0.8376\n",
            "Epoch 34: val_loss did not improve from 0.92394\n",
            "11/11 [==============================] - 0s 45ms/step - loss: 0.3774 - accuracy: 0.8424 - precision: 0.8457 - recall: 0.8376 - val_loss: 0.9377 - val_accuracy: 0.6125 - val_precision: 0.6129 - val_recall: 0.6109\n",
            "Epoch 35/200\n",
            "11/11 [==============================] - ETA: 0s - loss: 0.3677 - accuracy: 0.8452 - precision: 0.8495 - recall: 0.8405\n",
            "Epoch 35: val_loss improved from 0.92394 to 0.82982, saving model to ./_best_weights.h5\n",
            "11/11 [==============================] - 1s 58ms/step - loss: 0.3677 - accuracy: 0.8452 - precision: 0.8495 - recall: 0.8405 - val_loss: 0.8298 - val_accuracy: 0.6017 - val_precision: 0.6015 - val_recall: 0.5996\n",
            "Epoch 36/200\n",
            "11/11 [==============================] - ETA: 0s - loss: 0.3808 - accuracy: 0.8449 - precision: 0.8476 - recall: 0.8404\n",
            "Epoch 36: val_loss did not improve from 0.82982\n",
            "11/11 [==============================] - 0s 45ms/step - loss: 0.3808 - accuracy: 0.8449 - precision: 0.8476 - recall: 0.8404 - val_loss: 0.9263 - val_accuracy: 0.6033 - val_precision: 0.6037 - val_recall: 0.6033\n",
            "Epoch 37/200\n",
            "11/11 [==============================] - ETA: 0s - loss: 0.3770 - accuracy: 0.8463 - precision: 0.8481 - recall: 0.8409\n",
            "Epoch 37: val_loss improved from 0.82982 to 0.82724, saving model to ./_best_weights.h5\n",
            "11/11 [==============================] - 1s 70ms/step - loss: 0.3770 - accuracy: 0.8463 - precision: 0.8481 - recall: 0.8409 - val_loss: 0.8272 - val_accuracy: 0.6173 - val_precision: 0.6185 - val_recall: 0.6168\n",
            "Epoch 38/200\n",
            "10/11 [==========================>...] - ETA: 0s - loss: 0.3839 - accuracy: 0.8425 - precision: 0.8462 - recall: 0.8385\n",
            "Epoch 38: val_loss improved from 0.82724 to 0.66789, saving model to ./_best_weights.h5\n",
            "11/11 [==============================] - 1s 58ms/step - loss: 0.3850 - accuracy: 0.8427 - precision: 0.8464 - recall: 0.8387 - val_loss: 0.6679 - val_accuracy: 0.6760 - val_precision: 0.6759 - val_recall: 0.6722\n",
            "Epoch 39/200\n",
            "11/11 [==============================] - ETA: 0s - loss: 0.3682 - accuracy: 0.8510 - precision: 0.8539 - recall: 0.8475\n",
            "Epoch 39: val_loss did not improve from 0.66789\n",
            "11/11 [==============================] - 0s 45ms/step - loss: 0.3682 - accuracy: 0.8510 - precision: 0.8539 - recall: 0.8475 - val_loss: 0.7714 - val_accuracy: 0.6685 - val_precision: 0.6677 - val_recall: 0.6642\n",
            "Epoch 40/200\n",
            "11/11 [==============================] - ETA: 0s - loss: 0.3620 - accuracy: 0.8511 - precision: 0.8536 - recall: 0.8460\n",
            "Epoch 40: val_loss improved from 0.66789 to 0.62646, saving model to ./_best_weights.h5\n",
            "11/11 [==============================] - 1s 56ms/step - loss: 0.3620 - accuracy: 0.8511 - precision: 0.8536 - recall: 0.8460 - val_loss: 0.6265 - val_accuracy: 0.7271 - val_precision: 0.7284 - val_recall: 0.7244\n",
            "Epoch 41/200\n",
            "11/11 [==============================] - ETA: 0s - loss: 0.3558 - accuracy: 0.8514 - precision: 0.8550 - recall: 0.8472\n",
            "Epoch 41: val_loss did not improve from 0.62646\n",
            "11/11 [==============================] - 1s 45ms/step - loss: 0.3558 - accuracy: 0.8514 - precision: 0.8550 - recall: 0.8472 - val_loss: 0.6892 - val_accuracy: 0.6857 - val_precision: 0.6854 - val_recall: 0.6825\n",
            "Epoch 42/200\n",
            "11/11 [==============================] - ETA: 0s - loss: 0.3491 - accuracy: 0.8559 - precision: 0.8591 - recall: 0.8524\n",
            "Epoch 42: val_loss did not improve from 0.62646\n",
            "11/11 [==============================] - 1s 46ms/step - loss: 0.3491 - accuracy: 0.8559 - precision: 0.8591 - recall: 0.8524 - val_loss: 0.6464 - val_accuracy: 0.6991 - val_precision: 0.7012 - val_recall: 0.6986\n",
            "Epoch 43/200\n",
            "11/11 [==============================] - ETA: 0s - loss: 0.3413 - accuracy: 0.8559 - precision: 0.8589 - recall: 0.8510\n",
            "Epoch 43: val_loss did not improve from 0.62646\n",
            "11/11 [==============================] - 0s 45ms/step - loss: 0.3413 - accuracy: 0.8559 - precision: 0.8589 - recall: 0.8510 - val_loss: 0.6598 - val_accuracy: 0.7244 - val_precision: 0.7252 - val_recall: 0.7228\n",
            "Epoch 44/200\n",
            "11/11 [==============================] - ETA: 0s - loss: 0.3373 - accuracy: 0.8578 - precision: 0.8603 - recall: 0.8539\n",
            "Epoch 44: val_loss did not improve from 0.62646\n",
            "11/11 [==============================] - 0s 45ms/step - loss: 0.3373 - accuracy: 0.8578 - precision: 0.8603 - recall: 0.8539 - val_loss: 0.6517 - val_accuracy: 0.6964 - val_precision: 0.6965 - val_recall: 0.6943\n",
            "Epoch 45/200\n",
            "11/11 [==============================] - ETA: 0s - loss: 0.3389 - accuracy: 0.8542 - precision: 0.8570 - recall: 0.8502\n",
            "Epoch 45: val_loss improved from 0.62646 to 0.54208, saving model to ./_best_weights.h5\n",
            "11/11 [==============================] - 1s 57ms/step - loss: 0.3389 - accuracy: 0.8542 - precision: 0.8570 - recall: 0.8502 - val_loss: 0.5421 - val_accuracy: 0.7524 - val_precision: 0.7534 - val_recall: 0.7513\n",
            "Epoch 46/200\n",
            "11/11 [==============================] - ETA: 0s - loss: 0.3346 - accuracy: 0.8639 - precision: 0.8666 - recall: 0.8610\n",
            "Epoch 46: val_loss did not improve from 0.54208\n",
            "11/11 [==============================] - 0s 44ms/step - loss: 0.3346 - accuracy: 0.8639 - precision: 0.8666 - recall: 0.8610 - val_loss: 0.5655 - val_accuracy: 0.7438 - val_precision: 0.7454 - val_recall: 0.7422\n",
            "Epoch 47/200\n",
            "11/11 [==============================] - ETA: 0s - loss: 0.3279 - accuracy: 0.8651 - precision: 0.8671 - recall: 0.8612\n",
            "Epoch 47: val_loss did not improve from 0.54208\n",
            "11/11 [==============================] - 0s 44ms/step - loss: 0.3279 - accuracy: 0.8651 - precision: 0.8671 - recall: 0.8612 - val_loss: 0.5928 - val_accuracy: 0.7336 - val_precision: 0.7339 - val_recall: 0.7320\n",
            "Epoch 48/200\n",
            "11/11 [==============================] - ETA: 0s - loss: 0.3270 - accuracy: 0.8637 - precision: 0.8667 - recall: 0.8610\n",
            "Epoch 48: val_loss did not improve from 0.54208\n",
            "11/11 [==============================] - 0s 45ms/step - loss: 0.3270 - accuracy: 0.8637 - precision: 0.8667 - recall: 0.8610 - val_loss: 0.6167 - val_accuracy: 0.7341 - val_precision: 0.7353 - val_recall: 0.7325\n",
            "Epoch 49/200\n",
            "11/11 [==============================] - ETA: 0s - loss: 0.3318 - accuracy: 0.8617 - precision: 0.8636 - recall: 0.8579\n",
            "Epoch 49: val_loss improved from 0.54208 to 0.50707, saving model to ./_best_weights.h5\n",
            "11/11 [==============================] - 1s 56ms/step - loss: 0.3318 - accuracy: 0.8617 - precision: 0.8636 - recall: 0.8579 - val_loss: 0.5071 - val_accuracy: 0.7686 - val_precision: 0.7686 - val_recall: 0.7670\n",
            "Epoch 50/200\n",
            "11/11 [==============================] - ETA: 0s - loss: 0.3233 - accuracy: 0.8652 - precision: 0.8673 - recall: 0.8623\n",
            "Epoch 50: val_loss improved from 0.50707 to 0.50177, saving model to ./_best_weights.h5\n",
            "11/11 [==============================] - 1s 55ms/step - loss: 0.3233 - accuracy: 0.8652 - precision: 0.8673 - recall: 0.8623 - val_loss: 0.5018 - val_accuracy: 0.7750 - val_precision: 0.7760 - val_recall: 0.7740\n",
            "Epoch 51/200\n",
            "10/11 [==========================>...] - ETA: 0s - loss: 0.3117 - accuracy: 0.8686 - precision: 0.8704 - recall: 0.8662\n",
            "Epoch 51: val_loss did not improve from 0.50177\n",
            "11/11 [==============================] - 0s 46ms/step - loss: 0.3108 - accuracy: 0.8687 - precision: 0.8705 - recall: 0.8664 - val_loss: 0.5071 - val_accuracy: 0.7696 - val_precision: 0.7698 - val_recall: 0.7686\n",
            "Epoch 52/200\n",
            "11/11 [==============================] - ETA: 0s - loss: 0.3096 - accuracy: 0.8706 - precision: 0.8723 - recall: 0.8671\n",
            "Epoch 52: val_loss did not improve from 0.50177\n",
            "11/11 [==============================] - 1s 46ms/step - loss: 0.3096 - accuracy: 0.8706 - precision: 0.8723 - recall: 0.8671 - val_loss: 0.5599 - val_accuracy: 0.7417 - val_precision: 0.7418 - val_recall: 0.7406\n",
            "Epoch 53/200\n",
            "11/11 [==============================] - ETA: 0s - loss: 0.3047 - accuracy: 0.8685 - precision: 0.8710 - recall: 0.8661\n",
            "Epoch 53: val_loss did not improve from 0.50177\n",
            "11/11 [==============================] - 0s 46ms/step - loss: 0.3047 - accuracy: 0.8685 - precision: 0.8710 - recall: 0.8661 - val_loss: 0.5380 - val_accuracy: 0.7449 - val_precision: 0.7452 - val_recall: 0.7443\n",
            "Epoch 54/200\n",
            "11/11 [==============================] - ETA: 0s - loss: 0.3046 - accuracy: 0.8713 - precision: 0.8725 - recall: 0.8695\n",
            "Epoch 54: val_loss did not improve from 0.50177\n",
            "11/11 [==============================] - 0s 45ms/step - loss: 0.3046 - accuracy: 0.8713 - precision: 0.8725 - recall: 0.8695 - val_loss: 0.5701 - val_accuracy: 0.7400 - val_precision: 0.7408 - val_recall: 0.7400\n",
            "Epoch 55/200\n",
            "11/11 [==============================] - ETA: 0s - loss: 0.3083 - accuracy: 0.8707 - precision: 0.8737 - recall: 0.8691\n",
            "Epoch 55: val_loss did not improve from 0.50177\n",
            "11/11 [==============================] - 0s 45ms/step - loss: 0.3083 - accuracy: 0.8707 - precision: 0.8737 - recall: 0.8691 - val_loss: 0.5349 - val_accuracy: 0.7557 - val_precision: 0.7559 - val_recall: 0.7551\n",
            "Epoch 56/200\n",
            "11/11 [==============================] - ETA: 0s - loss: 0.3117 - accuracy: 0.8669 - precision: 0.8690 - recall: 0.8644\n",
            "Epoch 56: val_loss improved from 0.50177 to 0.46738, saving model to ./_best_weights.h5\n",
            "11/11 [==============================] - 1s 58ms/step - loss: 0.3117 - accuracy: 0.8669 - precision: 0.8690 - recall: 0.8644 - val_loss: 0.4674 - val_accuracy: 0.7847 - val_precision: 0.7856 - val_recall: 0.7831\n",
            "Epoch 57/200\n",
            "11/11 [==============================] - ETA: 0s - loss: 0.3041 - accuracy: 0.8733 - precision: 0.8749 - recall: 0.8697\n",
            "Epoch 57: val_loss did not improve from 0.46738\n",
            "11/11 [==============================] - 0s 45ms/step - loss: 0.3041 - accuracy: 0.8733 - precision: 0.8749 - recall: 0.8697 - val_loss: 0.5947 - val_accuracy: 0.7341 - val_precision: 0.7349 - val_recall: 0.7325\n",
            "Epoch 58/200\n",
            "11/11 [==============================] - ETA: 0s - loss: 0.3007 - accuracy: 0.8748 - precision: 0.8765 - recall: 0.8726\n",
            "Epoch 58: val_loss improved from 0.46738 to 0.46108, saving model to ./_best_weights.h5\n",
            "11/11 [==============================] - 1s 64ms/step - loss: 0.3007 - accuracy: 0.8748 - precision: 0.8765 - recall: 0.8726 - val_loss: 0.4611 - val_accuracy: 0.7966 - val_precision: 0.7972 - val_recall: 0.7955\n",
            "Epoch 59/200\n",
            "11/11 [==============================] - ETA: 0s - loss: 0.2919 - accuracy: 0.8809 - precision: 0.8823 - recall: 0.8780\n",
            "Epoch 59: val_loss did not improve from 0.46108\n",
            "11/11 [==============================] - 0s 45ms/step - loss: 0.2919 - accuracy: 0.8809 - precision: 0.8823 - recall: 0.8780 - val_loss: 0.4643 - val_accuracy: 0.7815 - val_precision: 0.7824 - val_recall: 0.7799\n",
            "Epoch 60/200\n",
            "11/11 [==============================] - ETA: 0s - loss: 0.2878 - accuracy: 0.8787 - precision: 0.8803 - recall: 0.8772\n",
            "Epoch 60: val_loss did not improve from 0.46108\n",
            "11/11 [==============================] - 1s 46ms/step - loss: 0.2878 - accuracy: 0.8787 - precision: 0.8803 - recall: 0.8772 - val_loss: 0.4830 - val_accuracy: 0.7826 - val_precision: 0.7837 - val_recall: 0.7820\n",
            "Epoch 61/200\n",
            "11/11 [==============================] - ETA: 0s - loss: 0.2785 - accuracy: 0.8809 - precision: 0.8822 - recall: 0.8780\n",
            "Epoch 61: val_loss did not improve from 0.46108\n",
            "11/11 [==============================] - 0s 45ms/step - loss: 0.2785 - accuracy: 0.8809 - precision: 0.8822 - recall: 0.8780 - val_loss: 0.5200 - val_accuracy: 0.7670 - val_precision: 0.7672 - val_recall: 0.7664\n",
            "Epoch 62/200\n",
            "10/11 [==========================>...] - ETA: 0s - loss: 0.2834 - accuracy: 0.8826 - precision: 0.8840 - recall: 0.8804\n",
            "Epoch 62: val_loss did not improve from 0.46108\n",
            "11/11 [==============================] - 0s 46ms/step - loss: 0.2844 - accuracy: 0.8823 - precision: 0.8837 - recall: 0.8799 - val_loss: 0.4994 - val_accuracy: 0.7750 - val_precision: 0.7757 - val_recall: 0.7745\n",
            "Epoch 63/200\n",
            "10/11 [==========================>...] - ETA: 0s - loss: 0.2855 - accuracy: 0.8787 - precision: 0.8798 - recall: 0.8766\n",
            "Epoch 63: val_loss did not improve from 0.46108\n",
            "11/11 [==============================] - 0s 45ms/step - loss: 0.2865 - accuracy: 0.8787 - precision: 0.8799 - recall: 0.8766 - val_loss: 0.4752 - val_accuracy: 0.7933 - val_precision: 0.7936 - val_recall: 0.7928\n",
            "Epoch 64/200\n",
            "11/11 [==============================] - ETA: 0s - loss: 0.2802 - accuracy: 0.8847 - precision: 0.8860 - recall: 0.8826\n",
            "Epoch 64: val_loss did not improve from 0.46108\n",
            "11/11 [==============================] - 1s 46ms/step - loss: 0.2802 - accuracy: 0.8847 - precision: 0.8860 - recall: 0.8826 - val_loss: 0.5195 - val_accuracy: 0.7686 - val_precision: 0.7702 - val_recall: 0.7686\n",
            "Epoch 65/200\n",
            "10/11 [==========================>...] - ETA: 0s - loss: 0.2742 - accuracy: 0.8852 - precision: 0.8867 - recall: 0.8823\n",
            "Epoch 65: val_loss did not improve from 0.46108\n",
            "11/11 [==============================] - 1s 46ms/step - loss: 0.2748 - accuracy: 0.8845 - precision: 0.8860 - recall: 0.8816 - val_loss: 0.5057 - val_accuracy: 0.7777 - val_precision: 0.7769 - val_recall: 0.7740\n",
            "Epoch 66/200\n",
            "11/11 [==============================] - ETA: 0s - loss: 0.2784 - accuracy: 0.8851 - precision: 0.8867 - recall: 0.8835\n",
            "Epoch 66: val_loss did not improve from 0.46108\n",
            "11/11 [==============================] - 0s 46ms/step - loss: 0.2784 - accuracy: 0.8851 - precision: 0.8867 - recall: 0.8835 - val_loss: 0.5152 - val_accuracy: 0.7729 - val_precision: 0.7740 - val_recall: 0.7723\n",
            "Epoch 67/200\n",
            "11/11 [==============================] - ETA: 0s - loss: 0.2784 - accuracy: 0.8827 - precision: 0.8845 - recall: 0.8813\n",
            "Epoch 67: val_loss did not improve from 0.46108\n",
            "11/11 [==============================] - 0s 45ms/step - loss: 0.2784 - accuracy: 0.8827 - precision: 0.8845 - recall: 0.8813 - val_loss: 0.5501 - val_accuracy: 0.7610 - val_precision: 0.7619 - val_recall: 0.7594\n",
            "Epoch 68/200\n",
            "11/11 [==============================] - ETA: 0s - loss: 0.2759 - accuracy: 0.8841 - precision: 0.8853 - recall: 0.8824\n",
            "Epoch 68: val_loss did not improve from 0.46108\n",
            "11/11 [==============================] - 1s 46ms/step - loss: 0.2759 - accuracy: 0.8841 - precision: 0.8853 - recall: 0.8824 - val_loss: 0.4751 - val_accuracy: 0.7809 - val_precision: 0.7814 - val_recall: 0.7809\n",
            "Epoch 69/200\n",
            "11/11 [==============================] - ETA: 0s - loss: 0.2758 - accuracy: 0.8861 - precision: 0.8874 - recall: 0.8846\n",
            "Epoch 69: val_loss did not improve from 0.46108\n",
            "11/11 [==============================] - 0s 46ms/step - loss: 0.2758 - accuracy: 0.8861 - precision: 0.8874 - recall: 0.8846 - val_loss: 0.4982 - val_accuracy: 0.7815 - val_precision: 0.7832 - val_recall: 0.7815\n",
            "Epoch 70/200\n",
            "11/11 [==============================] - ETA: 0s - loss: 0.2759 - accuracy: 0.8888 - precision: 0.8896 - recall: 0.8866\n",
            "Epoch 70: val_loss did not improve from 0.46108\n",
            "11/11 [==============================] - 0s 46ms/step - loss: 0.2759 - accuracy: 0.8888 - precision: 0.8896 - recall: 0.8866 - val_loss: 0.5154 - val_accuracy: 0.7853 - val_precision: 0.7857 - val_recall: 0.7853\n",
            "Epoch 71/200\n",
            "11/11 [==============================] - ETA: 0s - loss: 0.2658 - accuracy: 0.8915 - precision: 0.8924 - recall: 0.8907\n",
            "Epoch 71: val_loss did not improve from 0.46108\n",
            "11/11 [==============================] - 1s 46ms/step - loss: 0.2658 - accuracy: 0.8915 - precision: 0.8924 - recall: 0.8907 - val_loss: 0.4911 - val_accuracy: 0.7858 - val_precision: 0.7860 - val_recall: 0.7847\n",
            "Epoch 72/200\n",
            "11/11 [==============================] - ETA: 0s - loss: 0.2633 - accuracy: 0.8872 - precision: 0.8882 - recall: 0.8862\n",
            "Epoch 72: val_loss did not improve from 0.46108\n",
            "11/11 [==============================] - 1s 47ms/step - loss: 0.2633 - accuracy: 0.8872 - precision: 0.8882 - recall: 0.8862 - val_loss: 0.5064 - val_accuracy: 0.7890 - val_precision: 0.7898 - val_recall: 0.7885\n",
            "Epoch 73/200\n",
            "11/11 [==============================] - ETA: 0s - loss: 0.2671 - accuracy: 0.8920 - precision: 0.8932 - recall: 0.8903\n",
            "Epoch 73: val_loss improved from 0.46108 to 0.45606, saving model to ./_best_weights.h5\n",
            "11/11 [==============================] - 1s 59ms/step - loss: 0.2671 - accuracy: 0.8920 - precision: 0.8932 - recall: 0.8903 - val_loss: 0.4561 - val_accuracy: 0.8057 - val_precision: 0.8055 - val_recall: 0.8046\n",
            "Epoch 74/200\n",
            "11/11 [==============================] - ETA: 0s - loss: 0.2554 - accuracy: 0.8921 - precision: 0.8933 - recall: 0.8911\n",
            "Epoch 74: val_loss did not improve from 0.45606\n",
            "11/11 [==============================] - 1s 46ms/step - loss: 0.2554 - accuracy: 0.8921 - precision: 0.8933 - recall: 0.8911 - val_loss: 0.4857 - val_accuracy: 0.7982 - val_precision: 0.7984 - val_recall: 0.7971\n",
            "Epoch 75/200\n",
            "11/11 [==============================] - ETA: 0s - loss: 0.2525 - accuracy: 0.8955 - precision: 0.8970 - recall: 0.8939\n",
            "Epoch 75: val_loss improved from 0.45606 to 0.44494, saving model to ./_best_weights.h5\n",
            "11/11 [==============================] - 1s 59ms/step - loss: 0.2525 - accuracy: 0.8955 - precision: 0.8970 - recall: 0.8939 - val_loss: 0.4449 - val_accuracy: 0.8132 - val_precision: 0.8141 - val_recall: 0.8132\n",
            "Epoch 76/200\n",
            "10/11 [==========================>...] - ETA: 0s - loss: 0.2465 - accuracy: 0.9003 - precision: 0.9010 - recall: 0.8984\n",
            "Epoch 76: val_loss did not improve from 0.44494\n",
            "11/11 [==============================] - 1s 47ms/step - loss: 0.2476 - accuracy: 0.8990 - precision: 0.8997 - recall: 0.8971 - val_loss: 0.4952 - val_accuracy: 0.7874 - val_precision: 0.7883 - val_recall: 0.7874\n",
            "Epoch 77/200\n",
            "10/11 [==========================>...] - ETA: 0s - loss: 0.2382 - accuracy: 0.8990 - precision: 0.9001 - recall: 0.8976\n",
            "Epoch 77: val_loss did not improve from 0.44494\n",
            "11/11 [==============================] - 1s 47ms/step - loss: 0.2399 - accuracy: 0.8982 - precision: 0.8992 - recall: 0.8967 - val_loss: 0.4625 - val_accuracy: 0.8138 - val_precision: 0.8135 - val_recall: 0.8122\n",
            "Epoch 78/200\n",
            "11/11 [==============================] - ETA: 0s - loss: 0.2516 - accuracy: 0.8945 - precision: 0.8953 - recall: 0.8929\n",
            "Epoch 78: val_loss improved from 0.44494 to 0.43113, saving model to ./_best_weights.h5\n",
            "11/11 [==============================] - 1s 59ms/step - loss: 0.2516 - accuracy: 0.8945 - precision: 0.8953 - recall: 0.8929 - val_loss: 0.4311 - val_accuracy: 0.8143 - val_precision: 0.8149 - val_recall: 0.8127\n",
            "Epoch 79/200\n",
            "10/11 [==========================>...] - ETA: 0s - loss: 0.2468 - accuracy: 0.8956 - precision: 0.8963 - recall: 0.8945\n",
            "Epoch 79: val_loss did not improve from 0.43113\n",
            "11/11 [==============================] - 1s 46ms/step - loss: 0.2464 - accuracy: 0.8956 - precision: 0.8962 - recall: 0.8945 - val_loss: 0.4776 - val_accuracy: 0.8127 - val_precision: 0.8130 - val_recall: 0.8122\n",
            "Epoch 80/200\n",
            "11/11 [==============================] - ETA: 0s - loss: 0.2467 - accuracy: 0.8971 - precision: 0.8980 - recall: 0.8956\n",
            "Epoch 80: val_loss did not improve from 0.43113\n",
            "11/11 [==============================] - 1s 46ms/step - loss: 0.2467 - accuracy: 0.8971 - precision: 0.8980 - recall: 0.8956 - val_loss: 0.4592 - val_accuracy: 0.8068 - val_precision: 0.8066 - val_recall: 0.8057\n",
            "Epoch 81/200\n",
            "11/11 [==============================] - ETA: 0s - loss: 0.2495 - accuracy: 0.8977 - precision: 0.8987 - recall: 0.8966\n",
            "Epoch 81: val_loss did not improve from 0.43113\n",
            "11/11 [==============================] - 1s 46ms/step - loss: 0.2495 - accuracy: 0.8977 - precision: 0.8987 - recall: 0.8966 - val_loss: 0.4521 - val_accuracy: 0.8143 - val_precision: 0.8142 - val_recall: 0.8138\n",
            "Epoch 82/200\n",
            "11/11 [==============================] - ETA: 0s - loss: 0.2427 - accuracy: 0.9002 - precision: 0.9015 - recall: 0.8990\n",
            "Epoch 82: val_loss did not improve from 0.43113\n",
            "11/11 [==============================] - 1s 47ms/step - loss: 0.2427 - accuracy: 0.9002 - precision: 0.9015 - recall: 0.8990 - val_loss: 0.5027 - val_accuracy: 0.7879 - val_precision: 0.7879 - val_recall: 0.7858\n",
            "Epoch 83/200\n",
            "11/11 [==============================] - ETA: 0s - loss: 0.2418 - accuracy: 0.8983 - precision: 0.8992 - recall: 0.8975\n",
            "Epoch 83: val_loss did not improve from 0.43113\n",
            "11/11 [==============================] - 1s 46ms/step - loss: 0.2418 - accuracy: 0.8983 - precision: 0.8992 - recall: 0.8975 - val_loss: 0.4800 - val_accuracy: 0.7971 - val_precision: 0.7987 - val_recall: 0.7966\n",
            "Epoch 84/200\n",
            "10/11 [==========================>...] - ETA: 0s - loss: 0.2323 - accuracy: 0.9053 - precision: 0.9060 - recall: 0.9038\n",
            "Epoch 84: val_loss did not improve from 0.43113\n",
            "11/11 [==============================] - 0s 45ms/step - loss: 0.2341 - accuracy: 0.9051 - precision: 0.9058 - recall: 0.9037 - val_loss: 0.5464 - val_accuracy: 0.7750 - val_precision: 0.7763 - val_recall: 0.7750\n",
            "Epoch 85/200\n",
            "11/11 [==============================] - ETA: 0s - loss: 0.2433 - accuracy: 0.9013 - precision: 0.9022 - recall: 0.9004\n",
            "Epoch 85: val_loss improved from 0.43113 to 0.41523, saving model to ./_best_weights.h5\n",
            "11/11 [==============================] - 1s 59ms/step - loss: 0.2433 - accuracy: 0.9013 - precision: 0.9022 - recall: 0.9004 - val_loss: 0.4152 - val_accuracy: 0.8321 - val_precision: 0.8321 - val_recall: 0.8321\n",
            "Epoch 86/200\n",
            "11/11 [==============================] - ETA: 0s - loss: 0.2339 - accuracy: 0.9040 - precision: 0.9048 - recall: 0.9027\n",
            "Epoch 86: val_loss did not improve from 0.41523\n",
            "11/11 [==============================] - 1s 46ms/step - loss: 0.2339 - accuracy: 0.9040 - precision: 0.9048 - recall: 0.9027 - val_loss: 0.4904 - val_accuracy: 0.8036 - val_precision: 0.8040 - val_recall: 0.8036\n",
            "Epoch 87/200\n",
            "11/11 [==============================] - ETA: 0s - loss: 0.2411 - accuracy: 0.9004 - precision: 0.9015 - recall: 0.8998\n",
            "Epoch 87: val_loss did not improve from 0.41523\n",
            "11/11 [==============================] - 1s 46ms/step - loss: 0.2411 - accuracy: 0.9004 - precision: 0.9015 - recall: 0.8998 - val_loss: 0.4790 - val_accuracy: 0.7992 - val_precision: 0.8010 - val_recall: 0.7992\n",
            "Epoch 88/200\n",
            "11/11 [==============================] - ETA: 0s - loss: 0.2472 - accuracy: 0.8986 - precision: 0.8995 - recall: 0.8973\n",
            "Epoch 88: val_loss did not improve from 0.41523\n",
            "11/11 [==============================] - 1s 46ms/step - loss: 0.2472 - accuracy: 0.8986 - precision: 0.8995 - recall: 0.8973 - val_loss: 0.4626 - val_accuracy: 0.8057 - val_precision: 0.8065 - val_recall: 0.8052\n",
            "Epoch 89/200\n",
            "11/11 [==============================] - ETA: 0s - loss: 0.2422 - accuracy: 0.9014 - precision: 0.9024 - recall: 0.9007\n",
            "Epoch 89: val_loss did not improve from 0.41523\n",
            "11/11 [==============================] - 1s 46ms/step - loss: 0.2422 - accuracy: 0.9014 - precision: 0.9024 - recall: 0.9007 - val_loss: 0.4560 - val_accuracy: 0.8111 - val_precision: 0.8111 - val_recall: 0.8111\n",
            "Epoch 90/200\n",
            "11/11 [==============================] - ETA: 0s - loss: 0.2318 - accuracy: 0.9055 - precision: 0.9063 - recall: 0.9046\n",
            "Epoch 90: val_loss did not improve from 0.41523\n",
            "11/11 [==============================] - 1s 46ms/step - loss: 0.2318 - accuracy: 0.9055 - precision: 0.9063 - recall: 0.9046 - val_loss: 0.4660 - val_accuracy: 0.8288 - val_precision: 0.8288 - val_recall: 0.8288\n",
            "Epoch 91/200\n",
            "10/11 [==========================>...] - ETA: 0s - loss: 0.2277 - accuracy: 0.9081 - precision: 0.9094 - recall: 0.9072\n",
            "Epoch 91: val_loss did not improve from 0.41523\n",
            "11/11 [==============================] - 1s 47ms/step - loss: 0.2290 - accuracy: 0.9073 - precision: 0.9086 - recall: 0.9063 - val_loss: 0.4793 - val_accuracy: 0.8084 - val_precision: 0.8088 - val_recall: 0.8084\n",
            "Epoch 92/200\n",
            "11/11 [==============================] - ETA: 0s - loss: 0.2237 - accuracy: 0.9102 - precision: 0.9112 - recall: 0.9093\n",
            "Epoch 92: val_loss did not improve from 0.41523\n",
            "11/11 [==============================] - 1s 46ms/step - loss: 0.2237 - accuracy: 0.9102 - precision: 0.9112 - recall: 0.9093 - val_loss: 0.4855 - val_accuracy: 0.7976 - val_precision: 0.7980 - val_recall: 0.7971\n",
            "Epoch 93/200\n",
            "11/11 [==============================] - ETA: 0s - loss: 0.2301 - accuracy: 0.9047 - precision: 0.9052 - recall: 0.9037\n",
            "Epoch 93: val_loss did not improve from 0.41523\n",
            "11/11 [==============================] - 1s 46ms/step - loss: 0.2301 - accuracy: 0.9047 - precision: 0.9052 - recall: 0.9037 - val_loss: 0.4469 - val_accuracy: 0.8170 - val_precision: 0.8174 - val_recall: 0.8170\n",
            "Epoch 94/200\n",
            "10/11 [==========================>...] - ETA: 0s - loss: 0.2222 - accuracy: 0.9094 - precision: 0.9105 - recall: 0.9083\n",
            "Epoch 94: val_loss did not improve from 0.41523\n",
            "11/11 [==============================] - 1s 47ms/step - loss: 0.2207 - accuracy: 0.9100 - precision: 0.9112 - recall: 0.9090 - val_loss: 0.5481 - val_accuracy: 0.7853 - val_precision: 0.7857 - val_recall: 0.7853\n",
            "Epoch 95/200\n",
            "10/11 [==========================>...] - ETA: 0s - loss: 0.2234 - accuracy: 0.9081 - precision: 0.9086 - recall: 0.9071\n",
            "Epoch 95: val_loss did not improve from 0.41523\n",
            "11/11 [==============================] - 1s 49ms/step - loss: 0.2257 - accuracy: 0.9072 - precision: 0.9077 - recall: 0.9062 - val_loss: 0.4419 - val_accuracy: 0.8143 - val_precision: 0.8154 - val_recall: 0.8132\n",
            "Epoch 96/200\n",
            "11/11 [==============================] - ETA: 0s - loss: 0.2226 - accuracy: 0.9080 - precision: 0.9088 - recall: 0.9070\n",
            "Epoch 96: val_loss did not improve from 0.41523\n",
            "11/11 [==============================] - 1s 48ms/step - loss: 0.2226 - accuracy: 0.9080 - precision: 0.9088 - recall: 0.9070 - val_loss: 0.4383 - val_accuracy: 0.8310 - val_precision: 0.8314 - val_recall: 0.8310\n",
            "Epoch 97/200\n",
            "11/11 [==============================] - ETA: 0s - loss: 0.2223 - accuracy: 0.9091 - precision: 0.9101 - recall: 0.9084\n",
            "Epoch 97: val_loss did not improve from 0.41523\n",
            "11/11 [==============================] - 1s 47ms/step - loss: 0.2223 - accuracy: 0.9091 - precision: 0.9101 - recall: 0.9084 - val_loss: 0.4752 - val_accuracy: 0.8116 - val_precision: 0.8115 - val_recall: 0.8111\n",
            "Epoch 98/200\n",
            "10/11 [==========================>...] - ETA: 0s - loss: 0.2104 - accuracy: 0.9155 - precision: 0.9159 - recall: 0.9137\n",
            "Epoch 98: val_loss did not improve from 0.41523\n",
            "11/11 [==============================] - 1s 46ms/step - loss: 0.2103 - accuracy: 0.9156 - precision: 0.9160 - recall: 0.9138 - val_loss: 0.5185 - val_accuracy: 0.7944 - val_precision: 0.7944 - val_recall: 0.7944\n",
            "Epoch 99/200\n",
            "11/11 [==============================] - ETA: 0s - loss: 0.2060 - accuracy: 0.9147 - precision: 0.9151 - recall: 0.9137\n",
            "Epoch 99: val_loss did not improve from 0.41523\n",
            "11/11 [==============================] - 1s 46ms/step - loss: 0.2060 - accuracy: 0.9147 - precision: 0.9151 - recall: 0.9137 - val_loss: 0.4827 - val_accuracy: 0.8143 - val_precision: 0.8152 - val_recall: 0.8143\n",
            "Epoch 100/200\n",
            "11/11 [==============================] - ETA: 0s - loss: 0.2024 - accuracy: 0.9189 - precision: 0.9196 - recall: 0.9173\n",
            "Epoch 100: val_loss did not improve from 0.41523\n",
            "11/11 [==============================] - 1s 47ms/step - loss: 0.2024 - accuracy: 0.9189 - precision: 0.9196 - recall: 0.9173 - val_loss: 0.5153 - val_accuracy: 0.7939 - val_precision: 0.7950 - val_recall: 0.7933\n",
            "Epoch 101/200\n",
            "10/11 [==========================>...] - ETA: 0s - loss: 0.2045 - accuracy: 0.9135 - precision: 0.9143 - recall: 0.9124\n",
            "Epoch 101: val_loss did not improve from 0.41523\n",
            "11/11 [==============================] - 1s 48ms/step - loss: 0.2040 - accuracy: 0.9137 - precision: 0.9144 - recall: 0.9126 - val_loss: 0.4801 - val_accuracy: 0.7998 - val_precision: 0.8001 - val_recall: 0.7992\n",
            "Epoch 102/200\n",
            "10/11 [==========================>...] - ETA: 0s - loss: 0.2077 - accuracy: 0.9157 - precision: 0.9165 - recall: 0.9147\n",
            "Epoch 102: val_loss did not improve from 0.41523\n",
            "11/11 [==============================] - 1s 47ms/step - loss: 0.2080 - accuracy: 0.9155 - precision: 0.9162 - recall: 0.9145 - val_loss: 0.5191 - val_accuracy: 0.7869 - val_precision: 0.7868 - val_recall: 0.7863\n",
            "Epoch 103/200\n",
            "10/11 [==========================>...] - ETA: 0s - loss: 0.2034 - accuracy: 0.9137 - precision: 0.9139 - recall: 0.9127\n",
            "Epoch 103: val_loss did not improve from 0.41523\n",
            "11/11 [==============================] - 1s 48ms/step - loss: 0.2030 - accuracy: 0.9142 - precision: 0.9146 - recall: 0.9133 - val_loss: 0.4457 - val_accuracy: 0.8213 - val_precision: 0.8213 - val_recall: 0.8213\n",
            "Epoch 104/200\n",
            "11/11 [==============================] - ETA: 0s - loss: 0.1995 - accuracy: 0.9198 - precision: 0.9203 - recall: 0.9192\n",
            "Epoch 104: val_loss did not improve from 0.41523\n",
            "11/11 [==============================] - 1s 47ms/step - loss: 0.1995 - accuracy: 0.9198 - precision: 0.9203 - recall: 0.9192 - val_loss: 0.5598 - val_accuracy: 0.7750 - val_precision: 0.7747 - val_recall: 0.7734\n",
            "Epoch 105/200\n",
            "11/11 [==============================] - ETA: 0s - loss: 0.2068 - accuracy: 0.9166 - precision: 0.9172 - recall: 0.9159\n",
            "Epoch 105: val_loss did not improve from 0.41523\n",
            "11/11 [==============================] - 1s 47ms/step - loss: 0.2068 - accuracy: 0.9166 - precision: 0.9172 - recall: 0.9159 - val_loss: 0.5095 - val_accuracy: 0.7933 - val_precision: 0.7933 - val_recall: 0.7933\n",
            "Epoch 106/200\n",
            "10/11 [==========================>...] - ETA: 0s - loss: 0.1950 - accuracy: 0.9202 - precision: 0.9208 - recall: 0.9195\n",
            "Epoch 106: val_loss did not improve from 0.41523\n",
            "11/11 [==============================] - 1s 56ms/step - loss: 0.1962 - accuracy: 0.9200 - precision: 0.9206 - recall: 0.9193 - val_loss: 0.5272 - val_accuracy: 0.7960 - val_precision: 0.7969 - val_recall: 0.7960\n",
            "Epoch 107/200\n",
            "10/11 [==========================>...] - ETA: 0s - loss: 0.2032 - accuracy: 0.9191 - precision: 0.9199 - recall: 0.9182\n",
            "Epoch 107: val_loss did not improve from 0.41523\n",
            "11/11 [==============================] - 1s 54ms/step - loss: 0.2040 - accuracy: 0.9190 - precision: 0.9197 - recall: 0.9180 - val_loss: 0.4877 - val_accuracy: 0.8154 - val_precision: 0.8158 - val_recall: 0.8154\n",
            "Epoch 108/200\n",
            "11/11 [==============================] - ETA: 0s - loss: 0.2040 - accuracy: 0.9178 - precision: 0.9183 - recall: 0.9173\n",
            "Epoch 108: val_loss did not improve from 0.41523\n",
            "11/11 [==============================] - 1s 51ms/step - loss: 0.2040 - accuracy: 0.9178 - precision: 0.9183 - recall: 0.9173 - val_loss: 0.5082 - val_accuracy: 0.8159 - val_precision: 0.8168 - val_recall: 0.8159\n",
            "Epoch 109/200\n",
            "11/11 [==============================] - ETA: 0s - loss: 0.1996 - accuracy: 0.9197 - precision: 0.9200 - recall: 0.9192\n",
            "Epoch 109: val_loss did not improve from 0.41523\n",
            "11/11 [==============================] - 1s 51ms/step - loss: 0.1996 - accuracy: 0.9197 - precision: 0.9200 - recall: 0.9192 - val_loss: 0.4711 - val_accuracy: 0.8175 - val_precision: 0.8178 - val_recall: 0.8165\n",
            "Epoch 110/200\n",
            "10/11 [==========================>...] - ETA: 0s - loss: 0.1905 - accuracy: 0.9223 - precision: 0.9228 - recall: 0.9216\n",
            "Epoch 110: val_loss did not improve from 0.41523\n",
            "11/11 [==============================] - 1s 47ms/step - loss: 0.1913 - accuracy: 0.9220 - precision: 0.9225 - recall: 0.9213 - val_loss: 0.5631 - val_accuracy: 0.7949 - val_precision: 0.7956 - val_recall: 0.7939\n",
            "Epoch 111/200\n",
            "11/11 [==============================] - ETA: 0s - loss: 0.1872 - accuracy: 0.9243 - precision: 0.9247 - recall: 0.9232\n",
            "Epoch 111: val_loss did not improve from 0.41523\n",
            "11/11 [==============================] - 1s 47ms/step - loss: 0.1872 - accuracy: 0.9243 - precision: 0.9247 - recall: 0.9232 - val_loss: 0.5053 - val_accuracy: 0.8019 - val_precision: 0.8018 - val_recall: 0.8014\n",
            "Epoch 112/200\n",
            "11/11 [==============================] - ETA: 0s - loss: 0.1866 - accuracy: 0.9252 - precision: 0.9254 - recall: 0.9248\n",
            "Epoch 112: val_loss did not improve from 0.41523\n",
            "11/11 [==============================] - 1s 47ms/step - loss: 0.1866 - accuracy: 0.9252 - precision: 0.9254 - recall: 0.9248 - val_loss: 0.5036 - val_accuracy: 0.8089 - val_precision: 0.8094 - val_recall: 0.8089\n",
            "Epoch 113/200\n",
            "11/11 [==============================] - ETA: 0s - loss: 0.1891 - accuracy: 0.9211 - precision: 0.9220 - recall: 0.9207\n",
            "Epoch 113: val_loss did not improve from 0.41523\n",
            "11/11 [==============================] - 1s 47ms/step - loss: 0.1891 - accuracy: 0.9211 - precision: 0.9220 - recall: 0.9207 - val_loss: 0.5082 - val_accuracy: 0.7960 - val_precision: 0.7959 - val_recall: 0.7955\n",
            "Epoch 114/200\n",
            "11/11 [==============================] - ETA: 0s - loss: 0.1932 - accuracy: 0.9204 - precision: 0.9209 - recall: 0.9199\n",
            "Epoch 114: val_loss did not improve from 0.41523\n",
            "11/11 [==============================] - 1s 47ms/step - loss: 0.1932 - accuracy: 0.9204 - precision: 0.9209 - recall: 0.9199 - val_loss: 0.5129 - val_accuracy: 0.8154 - val_precision: 0.8152 - val_recall: 0.8143\n",
            "Epoch 115/200\n",
            "10/11 [==========================>...] - ETA: 0s - loss: 0.1832 - accuracy: 0.9244 - precision: 0.9248 - recall: 0.9241\n",
            "Epoch 115: val_loss did not improve from 0.41523\n",
            "11/11 [==============================] - 1s 47ms/step - loss: 0.1829 - accuracy: 0.9246 - precision: 0.9250 - recall: 0.9242 - val_loss: 0.5331 - val_accuracy: 0.8046 - val_precision: 0.8046 - val_recall: 0.8046\n",
            "Epoch 116/200\n",
            "11/11 [==============================] - ETA: 0s - loss: 0.1905 - accuracy: 0.9225 - precision: 0.9231 - recall: 0.9220\n",
            "Epoch 116: val_loss did not improve from 0.41523\n",
            "11/11 [==============================] - 0s 46ms/step - loss: 0.1905 - accuracy: 0.9225 - precision: 0.9231 - recall: 0.9220 - val_loss: 0.5568 - val_accuracy: 0.7976 - val_precision: 0.7978 - val_recall: 0.7966\n",
            "Epoch 117/200\n",
            "10/11 [==========================>...] - ETA: 0s - loss: 0.1869 - accuracy: 0.9219 - precision: 0.9223 - recall: 0.9212\n",
            "Epoch 117: val_loss did not improve from 0.41523\n",
            "11/11 [==============================] - 1s 48ms/step - loss: 0.1867 - accuracy: 0.9219 - precision: 0.9223 - recall: 0.9213 - val_loss: 0.5489 - val_accuracy: 0.8089 - val_precision: 0.8097 - val_recall: 0.8084\n",
            "Epoch 118/200\n",
            "10/11 [==========================>...] - ETA: 0s - loss: 0.1834 - accuracy: 0.9289 - precision: 0.9292 - recall: 0.9284\n",
            "Epoch 118: val_loss did not improve from 0.41523\n",
            "11/11 [==============================] - 1s 48ms/step - loss: 0.1832 - accuracy: 0.9289 - precision: 0.9293 - recall: 0.9285 - val_loss: 0.5462 - val_accuracy: 0.8057 - val_precision: 0.8070 - val_recall: 0.8057\n",
            "Epoch 119/200\n",
            "11/11 [==============================] - ETA: 0s - loss: 0.1779 - accuracy: 0.9263 - precision: 0.9267 - recall: 0.9251\n",
            "Epoch 119: val_loss did not improve from 0.41523\n",
            "11/11 [==============================] - 1s 48ms/step - loss: 0.1779 - accuracy: 0.9263 - precision: 0.9267 - recall: 0.9251 - val_loss: 0.5773 - val_accuracy: 0.7901 - val_precision: 0.7907 - val_recall: 0.7890\n",
            "Epoch 120/200\n",
            "11/11 [==============================] - ETA: 0s - loss: 0.1722 - accuracy: 0.9306 - precision: 0.9312 - recall: 0.9304\n",
            "Epoch 120: val_loss did not improve from 0.41523\n",
            "11/11 [==============================] - 0s 46ms/step - loss: 0.1722 - accuracy: 0.9306 - precision: 0.9312 - recall: 0.9304 - val_loss: 0.5900 - val_accuracy: 0.7863 - val_precision: 0.7863 - val_recall: 0.7863\n",
            "Epoch 121/200\n",
            "10/11 [==========================>...] - ETA: 0s - loss: 0.1716 - accuracy: 0.9312 - precision: 0.9313 - recall: 0.9308\n",
            "Epoch 121: val_loss did not improve from 0.41523\n",
            "11/11 [==============================] - 0s 46ms/step - loss: 0.1755 - accuracy: 0.9293 - precision: 0.9295 - recall: 0.9289 - val_loss: 0.5433 - val_accuracy: 0.8073 - val_precision: 0.8078 - val_recall: 0.8073\n",
            "Epoch 122/200\n",
            "10/11 [==========================>...] - ETA: 0s - loss: 0.1756 - accuracy: 0.9288 - precision: 0.9290 - recall: 0.9279\n",
            "Epoch 122: val_loss did not improve from 0.41523\n",
            "11/11 [==============================] - 1s 48ms/step - loss: 0.1763 - accuracy: 0.9287 - precision: 0.9289 - recall: 0.9278 - val_loss: 0.5907 - val_accuracy: 0.7853 - val_precision: 0.7857 - val_recall: 0.7853\n",
            "Epoch 123/200\n",
            "11/11 [==============================] - ETA: 0s - loss: 0.1750 - accuracy: 0.9300 - precision: 0.9304 - recall: 0.9294\n",
            "Epoch 123: val_loss did not improve from 0.41523\n",
            "11/11 [==============================] - 1s 46ms/step - loss: 0.1750 - accuracy: 0.9300 - precision: 0.9304 - recall: 0.9294 - val_loss: 0.5351 - val_accuracy: 0.8052 - val_precision: 0.8068 - val_recall: 0.8046\n",
            "Epoch 124/200\n",
            "10/11 [==========================>...] - ETA: 0s - loss: 0.1770 - accuracy: 0.9299 - precision: 0.9307 - recall: 0.9295\n",
            "Epoch 124: val_loss did not improve from 0.41523\n",
            "11/11 [==============================] - 1s 47ms/step - loss: 0.1774 - accuracy: 0.9294 - precision: 0.9302 - recall: 0.9290 - val_loss: 0.5507 - val_accuracy: 0.8009 - val_precision: 0.8006 - val_recall: 0.7998\n",
            "Epoch 125/200\n",
            "11/11 [==============================] - ETA: 0s - loss: 0.1789 - accuracy: 0.9293 - precision: 0.9297 - recall: 0.9290\n",
            "Epoch 125: val_loss did not improve from 0.41523\n",
            "11/11 [==============================] - 1s 47ms/step - loss: 0.1789 - accuracy: 0.9293 - precision: 0.9297 - recall: 0.9290 - val_loss: 0.5551 - val_accuracy: 0.8003 - val_precision: 0.8002 - val_recall: 0.7998\n",
            "Epoch 126/200\n",
            "11/11 [==============================] - ETA: 0s - loss: 0.1855 - accuracy: 0.9244 - precision: 0.9250 - recall: 0.9239\n",
            "Epoch 126: val_loss did not improve from 0.41523\n",
            "11/11 [==============================] - 0s 45ms/step - loss: 0.1855 - accuracy: 0.9244 - precision: 0.9250 - recall: 0.9239 - val_loss: 0.5313 - val_accuracy: 0.8138 - val_precision: 0.8142 - val_recall: 0.8138\n",
            "Epoch 127/200\n",
            "11/11 [==============================] - ETA: 0s - loss: 0.1768 - accuracy: 0.9262 - precision: 0.9265 - recall: 0.9258\n",
            "Epoch 127: val_loss did not improve from 0.41523\n",
            "11/11 [==============================] - 1s 48ms/step - loss: 0.1768 - accuracy: 0.9262 - precision: 0.9265 - recall: 0.9258 - val_loss: 0.4866 - val_accuracy: 0.8138 - val_precision: 0.8146 - val_recall: 0.8132\n",
            "Epoch 128/200\n",
            "11/11 [==============================] - ETA: 0s - loss: 0.1797 - accuracy: 0.9271 - precision: 0.9275 - recall: 0.9266\n",
            "Epoch 128: val_loss did not improve from 0.41523\n",
            "11/11 [==============================] - 1s 48ms/step - loss: 0.1797 - accuracy: 0.9271 - precision: 0.9275 - recall: 0.9266 - val_loss: 0.5719 - val_accuracy: 0.8046 - val_precision: 0.8050 - val_recall: 0.8041\n",
            "Epoch 129/200\n",
            "11/11 [==============================] - ETA: 0s - loss: 0.1773 - accuracy: 0.9301 - precision: 0.9303 - recall: 0.9299\n",
            "Epoch 129: val_loss did not improve from 0.41523\n",
            "11/11 [==============================] - 1s 49ms/step - loss: 0.1773 - accuracy: 0.9301 - precision: 0.9303 - recall: 0.9299 - val_loss: 0.4809 - val_accuracy: 0.8224 - val_precision: 0.8228 - val_recall: 0.8224\n",
            "Epoch 130/200\n",
            "11/11 [==============================] - ETA: 0s - loss: 0.1753 - accuracy: 0.9269 - precision: 0.9274 - recall: 0.9265\n",
            "Epoch 130: val_loss did not improve from 0.41523\n",
            "11/11 [==============================] - 1s 47ms/step - loss: 0.1753 - accuracy: 0.9269 - precision: 0.9274 - recall: 0.9265 - val_loss: 0.5262 - val_accuracy: 0.8132 - val_precision: 0.8137 - val_recall: 0.8132\n",
            "Epoch 131/200\n",
            "10/11 [==========================>...] - ETA: 0s - loss: 0.1704 - accuracy: 0.9284 - precision: 0.9288 - recall: 0.9279\n",
            "Epoch 131: val_loss did not improve from 0.41523\n",
            "11/11 [==============================] - 1s 47ms/step - loss: 0.1716 - accuracy: 0.9280 - precision: 0.9284 - recall: 0.9275 - val_loss: 0.5158 - val_accuracy: 0.8111 - val_precision: 0.8111 - val_recall: 0.8111\n",
            "Epoch 132/200\n",
            "10/11 [==========================>...] - ETA: 0s - loss: 0.1643 - accuracy: 0.9334 - precision: 0.9339 - recall: 0.9328\n",
            "Epoch 132: val_loss did not improve from 0.41523\n",
            "11/11 [==============================] - 1s 48ms/step - loss: 0.1642 - accuracy: 0.9331 - precision: 0.9336 - recall: 0.9326 - val_loss: 0.5475 - val_accuracy: 0.8073 - val_precision: 0.8082 - val_recall: 0.8073\n",
            "Epoch 133/200\n",
            "11/11 [==============================] - ETA: 0s - loss: 0.1679 - accuracy: 0.9332 - precision: 0.9341 - recall: 0.9328\n",
            "Epoch 133: val_loss did not improve from 0.41523\n",
            "11/11 [==============================] - 1s 49ms/step - loss: 0.1679 - accuracy: 0.9332 - precision: 0.9341 - recall: 0.9328 - val_loss: 0.4876 - val_accuracy: 0.8310 - val_precision: 0.8308 - val_recall: 0.8299\n",
            "Epoch 134/200\n",
            "10/11 [==========================>...] - ETA: 0s - loss: 0.1680 - accuracy: 0.9312 - precision: 0.9318 - recall: 0.9307\n",
            "Epoch 134: val_loss did not improve from 0.41523\n",
            "11/11 [==============================] - 1s 50ms/step - loss: 0.1671 - accuracy: 0.9319 - precision: 0.9324 - recall: 0.9313 - val_loss: 0.5498 - val_accuracy: 0.8100 - val_precision: 0.8098 - val_recall: 0.8089\n",
            "Epoch 135/200\n",
            "11/11 [==============================] - ETA: 0s - loss: 0.1654 - accuracy: 0.9350 - precision: 0.9357 - recall: 0.9343\n",
            "Epoch 135: val_loss did not improve from 0.41523\n",
            "11/11 [==============================] - 1s 48ms/step - loss: 0.1654 - accuracy: 0.9350 - precision: 0.9357 - recall: 0.9343 - val_loss: 0.5664 - val_accuracy: 0.7966 - val_precision: 0.7966 - val_recall: 0.7966\n",
            "Epoch 136/200\n",
            "10/11 [==========================>...] - ETA: 0s - loss: 0.1578 - accuracy: 0.9352 - precision: 0.9352 - recall: 0.9345\n",
            "Epoch 136: val_loss did not improve from 0.41523\n",
            "11/11 [==============================] - 1s 48ms/step - loss: 0.1575 - accuracy: 0.9355 - precision: 0.9355 - recall: 0.9348 - val_loss: 0.6170 - val_accuracy: 0.7922 - val_precision: 0.7931 - val_recall: 0.7922\n",
            "Epoch 137/200\n",
            "11/11 [==============================] - ETA: 0s - loss: 0.1588 - accuracy: 0.9376 - precision: 0.9377 - recall: 0.9370\n",
            "Epoch 137: val_loss did not improve from 0.41523\n",
            "11/11 [==============================] - 1s 50ms/step - loss: 0.1588 - accuracy: 0.9376 - precision: 0.9377 - recall: 0.9370 - val_loss: 0.5532 - val_accuracy: 0.7960 - val_precision: 0.7964 - val_recall: 0.7960\n",
            "Epoch 138/200\n",
            "10/11 [==========================>...] - ETA: 0s - loss: 0.1568 - accuracy: 0.9385 - precision: 0.9390 - recall: 0.9380\n",
            "Epoch 138: val_loss did not improve from 0.41523\n",
            "11/11 [==============================] - 1s 48ms/step - loss: 0.1568 - accuracy: 0.9381 - precision: 0.9386 - recall: 0.9376 - val_loss: 0.5447 - val_accuracy: 0.8062 - val_precision: 0.8075 - val_recall: 0.8062\n",
            "Epoch 139/200\n",
            "10/11 [==========================>...] - ETA: 0s - loss: 0.1634 - accuracy: 0.9341 - precision: 0.9348 - recall: 0.9337\n",
            "Epoch 139: val_loss did not improve from 0.41523\n",
            "11/11 [==============================] - 1s 48ms/step - loss: 0.1630 - accuracy: 0.9343 - precision: 0.9350 - recall: 0.9339 - val_loss: 0.5994 - val_accuracy: 0.7982 - val_precision: 0.7981 - val_recall: 0.7976\n",
            "Epoch 140/200\n",
            "10/11 [==========================>...] - ETA: 0s - loss: 0.1574 - accuracy: 0.9378 - precision: 0.9381 - recall: 0.9373\n",
            "Epoch 140: val_loss did not improve from 0.41523\n",
            "11/11 [==============================] - 1s 49ms/step - loss: 0.1581 - accuracy: 0.9380 - precision: 0.9383 - recall: 0.9374 - val_loss: 0.5667 - val_accuracy: 0.8089 - val_precision: 0.8094 - val_recall: 0.8089\n",
            "Epoch 141/200\n",
            "10/11 [==========================>...] - ETA: 0s - loss: 0.1578 - accuracy: 0.9368 - precision: 0.9373 - recall: 0.9362\n",
            "Epoch 141: val_loss did not improve from 0.41523\n",
            "11/11 [==============================] - 1s 48ms/step - loss: 0.1573 - accuracy: 0.9370 - precision: 0.9375 - recall: 0.9364 - val_loss: 0.5216 - val_accuracy: 0.8052 - val_precision: 0.8054 - val_recall: 0.8041\n",
            "Epoch 142/200\n",
            "10/11 [==========================>...] - ETA: 0s - loss: 0.1573 - accuracy: 0.9368 - precision: 0.9376 - recall: 0.9362\n",
            "Epoch 142: val_loss did not improve from 0.41523\n",
            "11/11 [==============================] - 1s 48ms/step - loss: 0.1567 - accuracy: 0.9372 - precision: 0.9380 - recall: 0.9366 - val_loss: 0.5530 - val_accuracy: 0.8095 - val_precision: 0.8095 - val_recall: 0.8095\n",
            "Epoch 143/200\n",
            "10/11 [==========================>...] - ETA: 0s - loss: 0.1578 - accuracy: 0.9372 - precision: 0.9377 - recall: 0.9368\n",
            "Epoch 143: val_loss did not improve from 0.41523\n",
            "11/11 [==============================] - 1s 50ms/step - loss: 0.1576 - accuracy: 0.9371 - precision: 0.9376 - recall: 0.9367 - val_loss: 0.5675 - val_accuracy: 0.8062 - val_precision: 0.8062 - val_recall: 0.8062\n",
            "Epoch 144/200\n",
            "11/11 [==============================] - ETA: 0s - loss: 0.1494 - accuracy: 0.9417 - precision: 0.9421 - recall: 0.9413\n",
            "Epoch 144: val_loss did not improve from 0.41523\n",
            "11/11 [==============================] - 1s 49ms/step - loss: 0.1494 - accuracy: 0.9417 - precision: 0.9421 - recall: 0.9413 - val_loss: 0.5586 - val_accuracy: 0.8079 - val_precision: 0.8079 - val_recall: 0.8079\n",
            "Epoch 145/200\n",
            "11/11 [==============================] - ETA: 0s - loss: 0.1501 - accuracy: 0.9384 - precision: 0.9391 - recall: 0.9383\n",
            "Epoch 145: val_loss did not improve from 0.41523\n",
            "11/11 [==============================] - 1s 48ms/step - loss: 0.1501 - accuracy: 0.9384 - precision: 0.9391 - recall: 0.9383 - val_loss: 0.5817 - val_accuracy: 0.8003 - val_precision: 0.8008 - val_recall: 0.8003\n",
            "Epoch 146/200\n",
            "10/11 [==========================>...] - ETA: 0s - loss: 0.1648 - accuracy: 0.9341 - precision: 0.9346 - recall: 0.9333\n",
            "Epoch 146: val_loss did not improve from 0.41523\n",
            "11/11 [==============================] - 1s 48ms/step - loss: 0.1651 - accuracy: 0.9338 - precision: 0.9344 - recall: 0.9330 - val_loss: 0.5881 - val_accuracy: 0.8052 - val_precision: 0.8056 - val_recall: 0.8052\n",
            "Epoch 147/200\n",
            "10/11 [==========================>...] - ETA: 0s - loss: 0.1613 - accuracy: 0.9343 - precision: 0.9346 - recall: 0.9339\n",
            "Epoch 147: val_loss did not improve from 0.41523\n",
            "11/11 [==============================] - 1s 48ms/step - loss: 0.1611 - accuracy: 0.9345 - precision: 0.9348 - recall: 0.9341 - val_loss: 0.5462 - val_accuracy: 0.8116 - val_precision: 0.8114 - val_recall: 0.8105\n",
            "Epoch 148/200\n",
            "10/11 [==========================>...] - ETA: 0s - loss: 0.1542 - accuracy: 0.9389 - precision: 0.9395 - recall: 0.9384\n",
            "Epoch 148: val_loss did not improve from 0.41523\n",
            "11/11 [==============================] - 1s 47ms/step - loss: 0.1575 - accuracy: 0.9375 - precision: 0.9381 - recall: 0.9370 - val_loss: 0.5866 - val_accuracy: 0.7982 - val_precision: 0.7986 - val_recall: 0.7982\n",
            "Epoch 149/200\n",
            "11/11 [==============================] - ETA: 0s - loss: 0.1606 - accuracy: 0.9361 - precision: 0.9365 - recall: 0.9357\n",
            "Epoch 149: val_loss did not improve from 0.41523\n",
            "11/11 [==============================] - 1s 47ms/step - loss: 0.1606 - accuracy: 0.9361 - precision: 0.9365 - recall: 0.9357 - val_loss: 0.5046 - val_accuracy: 0.8229 - val_precision: 0.8233 - val_recall: 0.8224\n",
            "Epoch 150/200\n",
            "11/11 [==============================] - ETA: 0s - loss: 0.1629 - accuracy: 0.9347 - precision: 0.9353 - recall: 0.9345\n",
            "Epoch 150: val_loss did not improve from 0.41523\n",
            "11/11 [==============================] - 1s 49ms/step - loss: 0.1629 - accuracy: 0.9347 - precision: 0.9353 - recall: 0.9345 - val_loss: 0.5674 - val_accuracy: 0.8138 - val_precision: 0.8138 - val_recall: 0.8138\n",
            "Epoch 151/200\n",
            "10/11 [==========================>...] - ETA: 0s - loss: 0.1495 - accuracy: 0.9394 - precision: 0.9398 - recall: 0.9388\n",
            "Epoch 151: val_loss did not improve from 0.41523\n",
            "11/11 [==============================] - 1s 53ms/step - loss: 0.1508 - accuracy: 0.9387 - precision: 0.9392 - recall: 0.9382 - val_loss: 0.6482 - val_accuracy: 0.7949 - val_precision: 0.7954 - val_recall: 0.7949\n",
            "Epoch 152/200\n",
            "11/11 [==============================] - ETA: 0s - loss: 0.1460 - accuracy: 0.9426 - precision: 0.9431 - recall: 0.9422\n",
            "Epoch 152: val_loss did not improve from 0.41523\n",
            "11/11 [==============================] - 1s 49ms/step - loss: 0.1460 - accuracy: 0.9426 - precision: 0.9431 - recall: 0.9422 - val_loss: 0.5808 - val_accuracy: 0.8132 - val_precision: 0.8131 - val_recall: 0.8127\n",
            "Epoch 153/200\n",
            "10/11 [==========================>...] - ETA: 0s - loss: 0.1414 - accuracy: 0.9452 - precision: 0.9452 - recall: 0.9452\n",
            "Epoch 153: val_loss did not improve from 0.41523\n",
            "11/11 [==============================] - 1s 47ms/step - loss: 0.1400 - accuracy: 0.9458 - precision: 0.9458 - recall: 0.9458 - val_loss: 0.6241 - val_accuracy: 0.7998 - val_precision: 0.8015 - val_recall: 0.7998\n",
            "Epoch 154/200\n",
            "11/11 [==============================] - ETA: 0s - loss: 0.1399 - accuracy: 0.9443 - precision: 0.9449 - recall: 0.9440\n",
            "Epoch 154: val_loss did not improve from 0.41523\n",
            "11/11 [==============================] - 1s 46ms/step - loss: 0.1399 - accuracy: 0.9443 - precision: 0.9449 - recall: 0.9440 - val_loss: 0.5797 - val_accuracy: 0.8159 - val_precision: 0.8159 - val_recall: 0.8159\n",
            "Epoch 155/200\n",
            "11/11 [==============================] - ETA: 0s - loss: 0.1388 - accuracy: 0.9462 - precision: 0.9466 - recall: 0.9458\n",
            "Epoch 155: val_loss did not improve from 0.41523\n",
            "11/11 [==============================] - 1s 46ms/step - loss: 0.1388 - accuracy: 0.9462 - precision: 0.9466 - recall: 0.9458 - val_loss: 0.5602 - val_accuracy: 0.8105 - val_precision: 0.8103 - val_recall: 0.8095\n",
            "Epoch 156/200\n",
            "11/11 [==============================] - ETA: 0s - loss: 0.1515 - accuracy: 0.9398 - precision: 0.9400 - recall: 0.9396\n",
            "Epoch 156: val_loss did not improve from 0.41523\n",
            "11/11 [==============================] - 0s 45ms/step - loss: 0.1515 - accuracy: 0.9398 - precision: 0.9400 - recall: 0.9396 - val_loss: 0.5676 - val_accuracy: 0.8143 - val_precision: 0.8148 - val_recall: 0.8143\n",
            "Epoch 157/200\n",
            "10/11 [==========================>...] - ETA: 0s - loss: 0.1417 - accuracy: 0.9440 - precision: 0.9444 - recall: 0.9438\n",
            "Epoch 157: val_loss did not improve from 0.41523\n",
            "11/11 [==============================] - 1s 47ms/step - loss: 0.1417 - accuracy: 0.9440 - precision: 0.9444 - recall: 0.9438 - val_loss: 0.5945 - val_accuracy: 0.8068 - val_precision: 0.8072 - val_recall: 0.8068\n",
            "Epoch 158/200\n",
            "10/11 [==========================>...] - ETA: 0s - loss: 0.1414 - accuracy: 0.9439 - precision: 0.9444 - recall: 0.9438\n",
            "Epoch 158: val_loss did not improve from 0.41523\n",
            "11/11 [==============================] - 1s 48ms/step - loss: 0.1416 - accuracy: 0.9434 - precision: 0.9438 - recall: 0.9433 - val_loss: 0.5939 - val_accuracy: 0.7960 - val_precision: 0.7964 - val_recall: 0.7960\n",
            "Epoch 159/200\n",
            "11/11 [==============================] - ETA: 0s - loss: 0.1481 - accuracy: 0.9411 - precision: 0.9413 - recall: 0.9407\n",
            "Epoch 159: val_loss did not improve from 0.41523\n",
            "11/11 [==============================] - 1s 49ms/step - loss: 0.1481 - accuracy: 0.9411 - precision: 0.9413 - recall: 0.9407 - val_loss: 0.5388 - val_accuracy: 0.8154 - val_precision: 0.8163 - val_recall: 0.8154\n",
            "Epoch 160/200\n",
            "10/11 [==========================>...] - ETA: 0s - loss: 0.1550 - accuracy: 0.9410 - precision: 0.9415 - recall: 0.9406\n",
            "Epoch 160: val_loss did not improve from 0.41523\n",
            "11/11 [==============================] - 1s 51ms/step - loss: 0.1560 - accuracy: 0.9406 - precision: 0.9410 - recall: 0.9402 - val_loss: 0.5552 - val_accuracy: 0.8036 - val_precision: 0.8044 - val_recall: 0.8036\n",
            "Epoch 161/200\n",
            "11/11 [==============================] - ETA: 0s - loss: 0.1421 - accuracy: 0.9432 - precision: 0.9433 - recall: 0.9431\n",
            "Epoch 161: val_loss did not improve from 0.41523\n",
            "11/11 [==============================] - 1s 47ms/step - loss: 0.1421 - accuracy: 0.9432 - precision: 0.9433 - recall: 0.9431 - val_loss: 0.5452 - val_accuracy: 0.8132 - val_precision: 0.8131 - val_recall: 0.8127\n",
            "Epoch 162/200\n",
            "11/11 [==============================] - ETA: 0s - loss: 0.1429 - accuracy: 0.9447 - precision: 0.9450 - recall: 0.9444\n",
            "Epoch 162: val_loss did not improve from 0.41523\n",
            "11/11 [==============================] - 1s 48ms/step - loss: 0.1429 - accuracy: 0.9447 - precision: 0.9450 - recall: 0.9444 - val_loss: 0.5490 - val_accuracy: 0.8181 - val_precision: 0.8180 - val_recall: 0.8175\n",
            "Epoch 163/200\n",
            "11/11 [==============================] - ETA: 0s - loss: 0.1375 - accuracy: 0.9440 - precision: 0.9441 - recall: 0.9437\n",
            "Epoch 163: val_loss did not improve from 0.41523\n",
            "11/11 [==============================] - 1s 48ms/step - loss: 0.1375 - accuracy: 0.9440 - precision: 0.9441 - recall: 0.9437 - val_loss: 0.5627 - val_accuracy: 0.8175 - val_precision: 0.8175 - val_recall: 0.8175\n",
            "Epoch 164/200\n",
            "10/11 [==========================>...] - ETA: 0s - loss: 0.1360 - accuracy: 0.9468 - precision: 0.9472 - recall: 0.9463\n",
            "Epoch 164: val_loss did not improve from 0.41523\n",
            "11/11 [==============================] - 1s 48ms/step - loss: 0.1367 - accuracy: 0.9470 - precision: 0.9474 - recall: 0.9465 - val_loss: 0.6166 - val_accuracy: 0.8009 - val_precision: 0.8009 - val_recall: 0.8009\n",
            "Epoch 165/200\n",
            "10/11 [==========================>...] - ETA: 0s - loss: 0.1479 - accuracy: 0.9409 - precision: 0.9412 - recall: 0.9406\n",
            "Epoch 165: val_loss did not improve from 0.41523\n",
            "11/11 [==============================] - 1s 49ms/step - loss: 0.1487 - accuracy: 0.9402 - precision: 0.9404 - recall: 0.9399 - val_loss: 0.5308 - val_accuracy: 0.8267 - val_precision: 0.8271 - val_recall: 0.8267\n",
            "Epoch 166/200\n",
            "10/11 [==========================>...] - ETA: 0s - loss: 0.1375 - accuracy: 0.9459 - precision: 0.9462 - recall: 0.9457\n",
            "Epoch 166: val_loss did not improve from 0.41523\n",
            "11/11 [==============================] - 1s 48ms/step - loss: 0.1393 - accuracy: 0.9454 - precision: 0.9456 - recall: 0.9451 - val_loss: 0.6063 - val_accuracy: 0.8111 - val_precision: 0.8114 - val_recall: 0.8105\n",
            "Epoch 167/200\n",
            "10/11 [==========================>...] - ETA: 0s - loss: 0.1323 - accuracy: 0.9478 - precision: 0.9480 - recall: 0.9478\n",
            "Epoch 167: val_loss did not improve from 0.41523\n",
            "11/11 [==============================] - 1s 48ms/step - loss: 0.1326 - accuracy: 0.9478 - precision: 0.9480 - recall: 0.9478 - val_loss: 0.5559 - val_accuracy: 0.8116 - val_precision: 0.8119 - val_recall: 0.8105\n",
            "Epoch 168/200\n",
            "10/11 [==========================>...] - ETA: 0s - loss: 0.1307 - accuracy: 0.9488 - precision: 0.9490 - recall: 0.9485\n",
            "Epoch 168: val_loss did not improve from 0.41523\n",
            "11/11 [==============================] - 1s 48ms/step - loss: 0.1311 - accuracy: 0.9491 - precision: 0.9492 - recall: 0.9488 - val_loss: 0.6155 - val_accuracy: 0.7982 - val_precision: 0.7986 - val_recall: 0.7982\n",
            "Epoch 169/200\n",
            "11/11 [==============================] - ETA: 0s - loss: 0.1275 - accuracy: 0.9499 - precision: 0.9502 - recall: 0.9497\n",
            "Epoch 169: val_loss did not improve from 0.41523\n",
            "11/11 [==============================] - 1s 46ms/step - loss: 0.1275 - accuracy: 0.9499 - precision: 0.9502 - recall: 0.9497 - val_loss: 0.6182 - val_accuracy: 0.8132 - val_precision: 0.8132 - val_recall: 0.8132\n",
            "Epoch 170/200\n",
            "11/11 [==============================] - ETA: 0s - loss: 0.1380 - accuracy: 0.9467 - precision: 0.9472 - recall: 0.9465\n",
            "Epoch 170: val_loss did not improve from 0.41523\n",
            "11/11 [==============================] - 1s 50ms/step - loss: 0.1380 - accuracy: 0.9467 - precision: 0.9472 - recall: 0.9465 - val_loss: 0.6090 - val_accuracy: 0.8052 - val_precision: 0.8056 - val_recall: 0.8052\n",
            "Epoch 171/200\n",
            "10/11 [==========================>...] - ETA: 0s - loss: 0.1396 - accuracy: 0.9479 - precision: 0.9481 - recall: 0.9476\n",
            "Epoch 171: val_loss did not improve from 0.41523\n",
            "11/11 [==============================] - 1s 51ms/step - loss: 0.1386 - accuracy: 0.9482 - precision: 0.9484 - recall: 0.9478 - val_loss: 0.5429 - val_accuracy: 0.8224 - val_precision: 0.8233 - val_recall: 0.8224\n",
            "Epoch 172/200\n",
            "11/11 [==============================] - ETA: 0s - loss: 0.1385 - accuracy: 0.9449 - precision: 0.9452 - recall: 0.9441\n",
            "Epoch 172: val_loss did not improve from 0.41523\n",
            "11/11 [==============================] - 1s 46ms/step - loss: 0.1385 - accuracy: 0.9449 - precision: 0.9452 - recall: 0.9441 - val_loss: 0.5721 - val_accuracy: 0.8111 - val_precision: 0.8120 - val_recall: 0.8111\n",
            "Epoch 173/200\n",
            "11/11 [==============================] - ETA: 0s - loss: 0.1292 - accuracy: 0.9503 - precision: 0.9507 - recall: 0.9497\n",
            "Epoch 173: val_loss did not improve from 0.41523\n",
            "11/11 [==============================] - 1s 47ms/step - loss: 0.1292 - accuracy: 0.9503 - precision: 0.9507 - recall: 0.9497 - val_loss: 0.5970 - val_accuracy: 0.8165 - val_precision: 0.8169 - val_recall: 0.8165\n",
            "Epoch 174/200\n",
            "11/11 [==============================] - ETA: 0s - loss: 0.1341 - accuracy: 0.9470 - precision: 0.9470 - recall: 0.9464\n",
            "Epoch 174: val_loss did not improve from 0.41523\n",
            "11/11 [==============================] - 1s 47ms/step - loss: 0.1341 - accuracy: 0.9470 - precision: 0.9470 - recall: 0.9464 - val_loss: 0.6635 - val_accuracy: 0.7922 - val_precision: 0.7922 - val_recall: 0.7922\n",
            "Epoch 175/200\n",
            "10/11 [==========================>...] - ETA: 0s - loss: 0.1410 - accuracy: 0.9421 - precision: 0.9425 - recall: 0.9417\n",
            "Epoch 175: val_loss did not improve from 0.41523\n",
            "11/11 [==============================] - 1s 48ms/step - loss: 0.1410 - accuracy: 0.9421 - precision: 0.9427 - recall: 0.9418 - val_loss: 0.6110 - val_accuracy: 0.8003 - val_precision: 0.8003 - val_recall: 0.8003\n",
            "Epoch 176/200\n",
            "10/11 [==========================>...] - ETA: 0s - loss: 0.1264 - accuracy: 0.9477 - precision: 0.9479 - recall: 0.9474\n",
            "Epoch 176: val_loss did not improve from 0.41523\n",
            "11/11 [==============================] - 1s 50ms/step - loss: 0.1273 - accuracy: 0.9473 - precision: 0.9475 - recall: 0.9470 - val_loss: 0.6577 - val_accuracy: 0.7928 - val_precision: 0.7936 - val_recall: 0.7928\n",
            "Epoch 177/200\n",
            "11/11 [==============================] - ETA: 0s - loss: 0.1232 - accuracy: 0.9492 - precision: 0.9493 - recall: 0.9490\n",
            "Epoch 177: val_loss did not improve from 0.41523\n",
            "11/11 [==============================] - 1s 48ms/step - loss: 0.1232 - accuracy: 0.9492 - precision: 0.9493 - recall: 0.9490 - val_loss: 0.6433 - val_accuracy: 0.7976 - val_precision: 0.7985 - val_recall: 0.7976\n",
            "Epoch 178/200\n",
            "10/11 [==========================>...] - ETA: 0s - loss: 0.1119 - accuracy: 0.9546 - precision: 0.9548 - recall: 0.9545\n",
            "Epoch 178: val_loss did not improve from 0.41523\n",
            "11/11 [==============================] - 1s 48ms/step - loss: 0.1119 - accuracy: 0.9548 - precision: 0.9550 - recall: 0.9547 - val_loss: 0.7602 - val_accuracy: 0.7799 - val_precision: 0.7798 - val_recall: 0.7793\n",
            "Epoch 179/200\n",
            "10/11 [==========================>...] - ETA: 0s - loss: 0.1240 - accuracy: 0.9528 - precision: 0.9530 - recall: 0.9526\n",
            "Epoch 179: val_loss did not improve from 0.41523\n",
            "11/11 [==============================] - 1s 48ms/step - loss: 0.1256 - accuracy: 0.9521 - precision: 0.9523 - recall: 0.9519 - val_loss: 0.5930 - val_accuracy: 0.8122 - val_precision: 0.8121 - val_recall: 0.8116\n",
            "Epoch 180/200\n",
            "10/11 [==========================>...] - ETA: 0s - loss: 0.1293 - accuracy: 0.9507 - precision: 0.9508 - recall: 0.9501\n",
            "Epoch 180: val_loss did not improve from 0.41523\n",
            "11/11 [==============================] - 1s 48ms/step - loss: 0.1311 - accuracy: 0.9498 - precision: 0.9500 - recall: 0.9493 - val_loss: 0.6039 - val_accuracy: 0.8143 - val_precision: 0.8146 - val_recall: 0.8132\n",
            "Epoch 181/200\n",
            "10/11 [==========================>...] - ETA: 0s - loss: 0.1322 - accuracy: 0.9477 - precision: 0.9480 - recall: 0.9475\n",
            "Epoch 181: val_loss did not improve from 0.41523\n",
            "11/11 [==============================] - 1s 50ms/step - loss: 0.1324 - accuracy: 0.9474 - precision: 0.9477 - recall: 0.9472 - val_loss: 0.6401 - val_accuracy: 0.8062 - val_precision: 0.8067 - val_recall: 0.8062\n",
            "Epoch 182/200\n",
            "10/11 [==========================>...] - ETA: 0s - loss: 0.1278 - accuracy: 0.9516 - precision: 0.9518 - recall: 0.9512\n",
            "Epoch 182: val_loss did not improve from 0.41523\n",
            "11/11 [==============================] - 1s 49ms/step - loss: 0.1288 - accuracy: 0.9510 - precision: 0.9512 - recall: 0.9506 - val_loss: 0.6261 - val_accuracy: 0.8079 - val_precision: 0.8081 - val_recall: 0.8068\n",
            "Epoch 183/200\n",
            "10/11 [==========================>...] - ETA: 0s - loss: 0.1164 - accuracy: 0.9569 - precision: 0.9570 - recall: 0.9568\n",
            "Epoch 183: val_loss did not improve from 0.41523\n",
            "11/11 [==============================] - 1s 49ms/step - loss: 0.1173 - accuracy: 0.9563 - precision: 0.9564 - recall: 0.9562 - val_loss: 0.6501 - val_accuracy: 0.8084 - val_precision: 0.8083 - val_recall: 0.8079\n",
            "Epoch 184/200\n",
            "10/11 [==========================>...] - ETA: 0s - loss: 0.1210 - accuracy: 0.9537 - precision: 0.9541 - recall: 0.9535\n",
            "Epoch 184: val_loss did not improve from 0.41523\n",
            "11/11 [==============================] - 1s 50ms/step - loss: 0.1228 - accuracy: 0.9529 - precision: 0.9533 - recall: 0.9527 - val_loss: 0.7049 - val_accuracy: 0.7928 - val_precision: 0.7931 - val_recall: 0.7922\n",
            "Epoch 185/200\n",
            "10/11 [==========================>...] - ETA: 0s - loss: 0.1319 - accuracy: 0.9479 - precision: 0.9483 - recall: 0.9474\n",
            "Epoch 185: val_loss did not improve from 0.41523\n",
            "11/11 [==============================] - 1s 47ms/step - loss: 0.1327 - accuracy: 0.9473 - precision: 0.9477 - recall: 0.9468 - val_loss: 0.5956 - val_accuracy: 0.8149 - val_precision: 0.8153 - val_recall: 0.8149\n",
            "Epoch 186/200\n",
            "11/11 [==============================] - ETA: 0s - loss: 0.1280 - accuracy: 0.9514 - precision: 0.9520 - recall: 0.9511\n",
            "Epoch 186: val_loss did not improve from 0.41523\n",
            "11/11 [==============================] - 1s 49ms/step - loss: 0.1280 - accuracy: 0.9514 - precision: 0.9520 - recall: 0.9511 - val_loss: 0.6421 - val_accuracy: 0.7998 - val_precision: 0.7997 - val_recall: 0.7992\n",
            "Epoch 187/200\n",
            "10/11 [==========================>...] - ETA: 0s - loss: 0.1205 - accuracy: 0.9542 - precision: 0.9543 - recall: 0.9540\n",
            "Epoch 187: val_loss did not improve from 0.41523\n",
            "11/11 [==============================] - 1s 47ms/step - loss: 0.1225 - accuracy: 0.9532 - precision: 0.9532 - recall: 0.9530 - val_loss: 0.5879 - val_accuracy: 0.8159 - val_precision: 0.8159 - val_recall: 0.8159\n",
            "Epoch 188/200\n",
            "11/11 [==============================] - ETA: 0s - loss: 0.1252 - accuracy: 0.9517 - precision: 0.9519 - recall: 0.9516\n",
            "Epoch 188: val_loss did not improve from 0.41523\n",
            "11/11 [==============================] - 1s 48ms/step - loss: 0.1252 - accuracy: 0.9517 - precision: 0.9519 - recall: 0.9516 - val_loss: 0.6358 - val_accuracy: 0.8052 - val_precision: 0.8059 - val_recall: 0.8046\n",
            "Epoch 189/200\n",
            "10/11 [==========================>...] - ETA: 0s - loss: 0.1156 - accuracy: 0.9567 - precision: 0.9570 - recall: 0.9565\n",
            "Epoch 189: val_loss did not improve from 0.41523\n",
            "11/11 [==============================] - 1s 50ms/step - loss: 0.1167 - accuracy: 0.9559 - precision: 0.9562 - recall: 0.9557 - val_loss: 0.6725 - val_accuracy: 0.7906 - val_precision: 0.7906 - val_recall: 0.7906\n",
            "Epoch 190/200\n",
            "10/11 [==========================>...] - ETA: 0s - loss: 0.1261 - accuracy: 0.9515 - precision: 0.9515 - recall: 0.9514\n",
            "Epoch 190: val_loss did not improve from 0.41523\n",
            "11/11 [==============================] - 1s 48ms/step - loss: 0.1259 - accuracy: 0.9520 - precision: 0.9520 - recall: 0.9519 - val_loss: 0.6572 - val_accuracy: 0.8062 - val_precision: 0.8061 - val_recall: 0.8057\n",
            "Epoch 191/200\n",
            "10/11 [==========================>...] - ETA: 0s - loss: 0.1092 - accuracy: 0.9570 - precision: 0.9574 - recall: 0.9567\n",
            "Epoch 191: val_loss did not improve from 0.41523\n",
            "11/11 [==============================] - 1s 50ms/step - loss: 0.1103 - accuracy: 0.9568 - precision: 0.9571 - recall: 0.9565 - val_loss: 0.6749 - val_accuracy: 0.7928 - val_precision: 0.7928 - val_recall: 0.7928\n",
            "Epoch 192/200\n",
            "11/11 [==============================] - ETA: 0s - loss: 0.1154 - accuracy: 0.9562 - precision: 0.9562 - recall: 0.9557\n",
            "Epoch 192: val_loss did not improve from 0.41523\n",
            "11/11 [==============================] - 1s 49ms/step - loss: 0.1154 - accuracy: 0.9562 - precision: 0.9562 - recall: 0.9557 - val_loss: 0.6517 - val_accuracy: 0.8062 - val_precision: 0.8062 - val_recall: 0.8062\n",
            "Epoch 193/200\n",
            "10/11 [==========================>...] - ETA: 0s - loss: 0.1216 - accuracy: 0.9537 - precision: 0.9538 - recall: 0.9536\n",
            "Epoch 193: val_loss did not improve from 0.41523\n",
            "11/11 [==============================] - 1s 51ms/step - loss: 0.1246 - accuracy: 0.9528 - precision: 0.9530 - recall: 0.9526 - val_loss: 0.6129 - val_accuracy: 0.8165 - val_precision: 0.8165 - val_recall: 0.8165\n",
            "Epoch 194/200\n",
            "10/11 [==========================>...] - ETA: 0s - loss: 0.1185 - accuracy: 0.9543 - precision: 0.9547 - recall: 0.9540\n",
            "Epoch 194: val_loss did not improve from 0.41523\n",
            "11/11 [==============================] - 1s 49ms/step - loss: 0.1200 - accuracy: 0.9535 - precision: 0.9540 - recall: 0.9533 - val_loss: 0.5996 - val_accuracy: 0.8116 - val_precision: 0.8116 - val_recall: 0.8116\n",
            "Epoch 195/200\n",
            "11/11 [==============================] - ETA: 0s - loss: 0.1239 - accuracy: 0.9515 - precision: 0.9520 - recall: 0.9512\n",
            "Epoch 195: val_loss did not improve from 0.41523\n",
            "11/11 [==============================] - 1s 49ms/step - loss: 0.1239 - accuracy: 0.9515 - precision: 0.9520 - recall: 0.9512 - val_loss: 0.5748 - val_accuracy: 0.8170 - val_precision: 0.8169 - val_recall: 0.8165\n",
            "Epoch 196/200\n",
            "10/11 [==========================>...] - ETA: 0s - loss: 0.1163 - accuracy: 0.9557 - precision: 0.9562 - recall: 0.9553\n",
            "Epoch 196: val_loss did not improve from 0.41523\n",
            "11/11 [==============================] - 1s 48ms/step - loss: 0.1169 - accuracy: 0.9554 - precision: 0.9561 - recall: 0.9551 - val_loss: 0.6458 - val_accuracy: 0.8014 - val_precision: 0.8014 - val_recall: 0.8014\n",
            "Epoch 197/200\n",
            "11/11 [==============================] - ETA: 0s - loss: 0.1209 - accuracy: 0.9523 - precision: 0.9526 - recall: 0.9516\n",
            "Epoch 197: val_loss did not improve from 0.41523\n",
            "11/11 [==============================] - 1s 51ms/step - loss: 0.1209 - accuracy: 0.9523 - precision: 0.9526 - recall: 0.9516 - val_loss: 0.5994 - val_accuracy: 0.8251 - val_precision: 0.8251 - val_recall: 0.8251\n",
            "Epoch 198/200\n",
            "11/11 [==============================] - ETA: 0s - loss: 0.1225 - accuracy: 0.9510 - precision: 0.9514 - recall: 0.9506\n",
            "Epoch 198: val_loss did not improve from 0.41523\n",
            "11/11 [==============================] - 1s 50ms/step - loss: 0.1225 - accuracy: 0.9510 - precision: 0.9514 - recall: 0.9506 - val_loss: 0.5993 - val_accuracy: 0.8122 - val_precision: 0.8130 - val_recall: 0.8122\n",
            "Epoch 199/200\n",
            "11/11 [==============================] - ETA: 0s - loss: 0.1164 - accuracy: 0.9547 - precision: 0.9549 - recall: 0.9544\n",
            "Epoch 199: val_loss did not improve from 0.41523\n",
            "11/11 [==============================] - 1s 50ms/step - loss: 0.1164 - accuracy: 0.9547 - precision: 0.9549 - recall: 0.9544 - val_loss: 0.6203 - val_accuracy: 0.8079 - val_precision: 0.8087 - val_recall: 0.8079\n",
            "Epoch 200/200\n",
            "10/11 [==========================>...] - ETA: 0s - loss: 0.1201 - accuracy: 0.9532 - precision: 0.9535 - recall: 0.9530\n",
            "Epoch 200: val_loss did not improve from 0.41523\n",
            "11/11 [==============================] - 1s 50ms/step - loss: 0.1211 - accuracy: 0.9529 - precision: 0.9531 - recall: 0.9527 - val_loss: 0.5964 - val_accuracy: 0.8143 - val_precision: 0.8148 - val_recall: 0.8143\n"
          ]
        }
      ],
      "source": [
        "checkpointer = ModelCheckpoint(filepath='./'+'_best_weights.h5', verbose=1, monitor='val_loss', mode='auto', save_best_only=True) #save at each epoch if the validation decreased\n",
        "\n",
        "history =model.fit(x_train_new, Y_train_new, epochs=200, batch_size=1024, verbose=1, validation_split=0.15, callbacks=[checkpointer])\n",
        "\n",
        "model.save('weights_cnn2_t1.h5')"
      ]
    },
    {
      "cell_type": "markdown",
      "metadata": {
        "id": "QSjYyMOIthHx"
      },
      "source": [
        "**Evalutations**"
      ]
    },
    {
      "cell_type": "code",
      "execution_count": null,
      "metadata": {
        "id": "j0b8bFSIZGES",
        "colab": {
          "base_uri": "https://localhost:8080/"
        },
        "outputId": "fa88f486-1e30-41f2-992f-50de4e2d3b76"
      },
      "outputs": [
        {
          "output_type": "stream",
          "name": "stdout",
          "text": [
            "44/44 [==============================] - 1s 10ms/step - loss: 0.5492 - accuracy: 0.8279 - precision: 0.8279 - recall: 0.8279\n",
            "[0.5491651296615601, 0.827886700630188, 0.827886700630188, 0.827886700630188]\n"
          ]
        }
      ],
      "source": [
        "\n",
        "score = model.evaluate(x_test_new, Y_test_new, verbose=1)\n",
        "#print('Test loss:', score[0])\n",
        "#print('Test accuracy:', score[1])\n",
        "print (score)"
      ]
    },
    {
      "cell_type": "code",
      "execution_count": null,
      "metadata": {
        "id": "AHmv-wR1ZJQ6",
        "colab": {
          "base_uri": "https://localhost:8080/",
          "height": 295
        },
        "outputId": "07bab513-4ee1-44c1-e536-1bdf61ff3132"
      },
      "outputs": [
        {
          "output_type": "display_data",
          "data": {
            "text/plain": [
              "<Figure size 432x288 with 1 Axes>"
            ],
            "image/png": "[encoded data removed]"
          },
          "metadata": {
            "needs_background": "light"
          }
        }
      ],
      "source": [
        "import matplotlib.pyplot as plt # shorcut for a plot function\n",
        "plt.plot(history.history['accuracy']) # training accuracy\n",
        "plt.plot(history.history['val_accuracy']) # validation accuracy\n",
        "plt.title('model accuracy')\n",
        "plt.ylabel('accuracy')\n",
        "plt.xlabel('epoch')\n",
        "plt.legend(['train', 'test'], loc='upper left')\n",
        "plt.show()"
      ]
    },
    {
      "cell_type": "code",
      "execution_count": null,
      "metadata": {
        "id": "JsuHy4BmZO43",
        "colab": {
          "base_uri": "https://localhost:8080/",
          "height": 295
        },
        "outputId": "505aab32-e74e-46b2-9f9b-53c1c862f491"
      },
      "outputs": [
        {
          "output_type": "display_data",
          "data": {
            "text/plain": [
              "<Figure size 432x288 with 1 Axes>"
            ],
            "image/png": "[encoded data removed]"
          },
          "metadata": {
            "needs_background": "light"
          }
        }
      ],
      "source": [
        "plt.plot(history.history['loss'])\n",
        "plt.plot(history.history['val_loss'])\n",
        "plt.title('model loss')\n",
        "plt.ylabel('loss')\n",
        "plt.xlabel('epoch')\n",
        "plt.legend(['train', 'test'], loc='upper left')\n",
        "plt.show()"
      ]
    },
    {
      "cell_type": "code",
      "execution_count": null,
      "metadata": {
        "id": "2hh3lutSZUWO"
      },
      "outputs": [],
      "source": [
        "\n",
        "predictions = model.predict(x_test_new,  verbose=1)\n",
        "print (\"predicted images size :\",predictions.shape)\n",
        "print(predictions)\n",
        "print(Y_test_new.shape)"
      ]
    },
    {
      "cell_type": "code",
      "execution_count": null,
      "metadata": {
        "id": "zOnUn784ZZ_g"
      },
      "outputs": [],
      "source": [
        "from sklearn.metrics import confusion_matrix,accuracy_score, precision_score, recall_score\n",
        "threshold_confusion = 0.5\n",
        "\n",
        "print (\"\\nConfusion matrix:  Custom threshold (for positive) of \" +str(threshold_confusion))\n",
        "y_pred = np.empty((predictions.shape[0]))\n",
        "y_test = np.empty((predictions.shape[0]))\n",
        "print(Y_test_new)\n",
        "for i in range(predictions.shape[0]):\n",
        "    #print(predictions[i])\n",
        "    y_pred[i]=np.argmax(predictions[i])\n",
        "    y_test[i]=np.argmax(Y_test_new[i])\n",
        "print(y_pred)\n",
        "print(y_test)  \n",
        "       \n",
        "confusion = confusion_matrix(y_test,  y_pred)\n",
        "\n",
        "print(confusion)"
      ]
    },
    {
      "cell_type": "code",
      "execution_count": null,
      "metadata": {
        "id": "0_B6tLCZiuxm"
      },
      "outputs": [],
      "source": [
        "z=[]\n",
        "for i in range(len(y_pred_all)):\n",
        "    if(y_pred_all[i][0]==1):\n",
        "        z.append(i)\n",
        "print(z)"
      ]
    },
    {
      "cell_type": "code",
      "execution_count": null,
      "metadata": {
        "id": "CM74mlnSiQnB"
      },
      "outputs": [],
      "source": [
        "d=[63,2025]\n",
        "chb=[1864, 5763]\n",
        "d=numpy.array(d)\n",
        "chb=numpy.array(chb)\n",
        "rs=[]\n",
        "for l in range (2025,5763):\n",
        "  if((y_pred_all[l][0]==1) and (y_pred_all[l+1][0]==1) and (y_pred_all[l+2][0]==1)):\n",
        "    rs.append(l)\n",
        "    continue\n",
        "  \n",
        "\n",
        "print(rs)\n",
        "k=5763-2264\n",
        "\n",
        "print(\"the duration before seizure in min is\", (k*2)/60)"
      ]
    },
    {
      "cell_type": "code",
      "execution_count": null,
      "metadata": {
        "id": "4s8392wqoF7I"
      },
      "outputs": [],
      "source": [
        "dataset_output= pd.read_csv(\"./y_chb\"+ch+\"_15min.txt\",delimiter=\" \",header=None)\n",
        "dataset_output=numpy.array(dataset_output,float)\n",
        "dataset_output_new= dataset_output.reshape(dataset_output.shape[0], )"
      ]
    },
    {
      "cell_type": "code",
      "execution_count": null,
      "metadata": {
        "id": "admghtBL_0pr"
      },
      "outputs": [],
      "source": [
        "print(dataset_output_new)"
      ]
    },
    {
      "cell_type": "code",
      "execution_count": null,
      "metadata": {
        "id": "9ZyQ5sCqoKhd"
      },
      "outputs": [],
      "source": [
        "x_train, x_test, y_train, y_test = train_test_split(x_train_test, dataset_output_new, test_size=0.2, random_state=42)"
      ]
    },
    {
      "cell_type": "code",
      "execution_count": null,
      "metadata": {
        "id": "uJV_HGlZukg3"
      },
      "outputs": [],
      "source": [
        "x_train_new=x_train\n",
        "x_test_new=x_test"
      ]
    },
    {
      "cell_type": "code",
      "execution_count": null,
      "metadata": {
        "id": "Q4umbBC1-xoi"
      },
      "outputs": [],
      "source": [
        "print(y_test)"
      ]
    },
    {
      "cell_type": "code",
      "execution_count": null,
      "metadata": {
        "id": "rJq3wqVZogBe"
      },
      "outputs": [],
      "source": [
        "Y_train_new = tensorflow.keras.utils.to_categorical( y_train)\n",
        "Y_test_new = tensorflow.keras.utils.to_categorical(y_test)\n",
        "print(Y_train_new.shape)"
      ]
    },
    {
      "cell_type": "code",
      "execution_count": null,
      "metadata": {
        "id": "uuEvdQ2-JgeF"
      },
      "outputs": [],
      "source": [
        "model = Sequential()\n",
        "model.add(Conv1D(32, kernel_size=3,\n",
        "                 activation='relu',data_format=\"channels_last\",padding='same',\n",
        "                 input_shape=(7,2)))\n",
        "model.add(BatchNormalization())\n",
        "model.add(Conv1D(64, 3, activation='relu',padding='same'))\n",
        "\n",
        "model.add(BatchNormalization())\n",
        "model.add(Conv1D(128, 3, activation='relu',padding='same'))\n",
        "\n",
        "model.add(MaxPooling1D(pool_size=2,strides=True))\n",
        "model.add(Dropout(0.3))#0.1\n",
        "model.add(Conv1D(512, 3, activation='relu',padding='same'))\n",
        "model.add(MaxPooling1D(pool_size=2,strides=None))\n",
        "model.add(Dropout(0.4))#0.1\n",
        "\n",
        "model.add(Flatten()) # Flatten is the input layer of the Fully Connected\n",
        "model.add(Dense(100, activation='relu')) # gets input size from flatten\n",
        "model.add(BatchNormalization())\n",
        "model.add(Dropout(0.4))#0.2\n",
        "model.add(Dense(2, activation='softmax',kernel_regularizer=regularizers.l2(0.001)))\n",
        "model.compile(loss=tensorflow.keras.losses.categorical_crossentropy,\n",
        "              optimizer=tensorflow.keras.optimizers.Adam(),\n",
        "              metrics=['accuracy'])"
      ]
    },
    {
      "cell_type": "code",
      "execution_count": null,
      "metadata": {
        "id": "9Uh6dHbKmonA"
      },
      "outputs": [],
      "source": [
        "checkpointer = ModelCheckpoint(filepath='./'+'_best_weights_1h.h5', verbose=1, monitor='val_loss', mode='auto', save_best_only=True) #save at each epoch if the validation decreased\n",
        "\n",
        "history =model.fit(x_train_new, Y_train_new, epochs=100, batch_size=512, verbose=1, validation_split=0.15, callbacks=[checkpointer])\n",
        "\n",
        "model.save('weights_cnn2_t1_1h.h5')"
      ]
    },
    {
      "cell_type": "code",
      "execution_count": null,
      "metadata": {
        "id": "s-wjq8rbmtHU"
      },
      "outputs": [],
      "source": [
        "score = model.evaluate(x_test_new, Y_test_new, verbose=1)\n",
        "print('Test loss:', score[0])\n",
        "print('Test accuracy:', score[1])\n",
        "import matplotlib.pyplot as plt # shorcut for a plot function\n",
        "plt.plot(history.history['accuracy']) # training accuracy\n",
        "plt.plot(history.history['val_accuracy']) # validation accuracy\n",
        "plt.title('model accuracy')\n",
        "plt.ylabel('accuracy')\n",
        "plt.xlabel('epoch')\n",
        "plt.legend(['train', 'test'], loc='upper left')\n",
        "plt.show()\n",
        "plt.plot(history.history['loss'])\n",
        "plt.plot(history.history['val_loss'])\n",
        "plt.title('model loss')\n",
        "plt.ylabel('loss')\n",
        "plt.xlabel('epoch')\n",
        "plt.legend(['train', 'test'], loc='upper left')\n",
        "plt.show()\n",
        "predictions_1h = model.predict(x_test_new, batch_size=32, verbose=2)\n",
        "\n",
        "print (\"predicted images size :\",predictions_1h.shape)\n",
        "print(predictions_1h)\n",
        "print(Y_test_new.shape)\n",
        "from sklearn.metrics import confusion_matrix,accuracy_score, precision_score, recall_score\n",
        "threshold_confusion = 0.5\n",
        "print(y_test)\n",
        "print (\"\\nConfusion matrix:  Custom threshold (for positive) of \" +str(threshold_confusion))\n",
        "y_pred_1h = np.empty((predictions_1h.shape[0]))\n",
        "y_test = np.empty((predictions_1h.shape[0]))\n",
        "for i in range(predictions_1h.shape[0]):\n",
        "    \n",
        "    y_pred_1h[i]=np.argmax(predictions_1h[i])\n",
        "    y_test[i]=np.argmax(Y_test_new[i])\n",
        "print(y_pred_1h)\n",
        "\"\"\"  \n",
        "for i in range (0, len(y_pred_1h)):\n",
        "  if (y_pred_1h[i]==0):\n",
        "    y_pred_1h[i]=1\n",
        "  else: \n",
        "    y_pred_1h[i]=0\n",
        "\"\"\"\n",
        "print(y_test)\n",
        "confusion = confusion_matrix(y_test,  y_pred_1h)\n",
        "print (confusion)\n",
        "numpy.savetxt(\"./y_pred_1h.txt\",y_pred_1h,delimiter=\" \",fmt='%f')\n",
        "print(\"The accuracy score on this random test-set is  :\", accuracy_score(y_test,  y_pred_1h) )\n",
        "\n",
        "recall=recall_score(y_test,  y_pred_1h, average=None)\n",
        "av_recall=sum(recall)/2\n",
        "print(\"recall\",recall, \"the avreage recall is \",av_recall)\n",
        "precision=precision_score(y_test,  y_pred_1h,average=None)\n",
        "av_precision=sum(precision)/2\n",
        "\n",
        "print(\"precision\",precision,\"the avreage precision is \",av_precision)\n",
        "\n",
        "F1_score=(2*av_precision*av_recall)/(av_precision+av_recall)\n",
        "print(\"F1_score\",F1_score)"
      ]
    },
    {
      "cell_type": "code",
      "execution_count": null,
      "metadata": {
        "id": "Fbnjq3Gu0My_"
      },
      "outputs": [],
      "source": [
        "predictions_all = model.predict(x_train_test, batch_size=32, verbose=2)\n",
        "print (\"predicted images size :\",predictions_all.shape)\n",
        "print(predictions_all)\n"
      ]
    },
    {
      "cell_type": "code",
      "execution_count": null,
      "metadata": {
        "id": "17Z3Bq9H1lgk"
      },
      "outputs": [],
      "source": [
        "y_pred_all=predictions_all\n",
        "\n",
        "for i in range(predictions_all.shape[0]):\n",
        "    \n",
        "    y_pred_all[i]=np.argmax(predictions_all[i])\n",
        "print(y_pred_all)"
      ]
    },
    {
      "cell_type": "code",
      "execution_count": null,
      "metadata": {
        "id": "WKMghsRJ1wmq"
      },
      "outputs": [],
      "source": [
        "z=[]\n",
        "for i in range(len(y_pred_all)):\n",
        "    if(y_pred_all[i][0]==1):\n",
        "        z.append(i)\n",
        "print(z)"
      ]
    },
    {
      "cell_type": "code",
      "execution_count": null,
      "metadata": {
        "id": "oiWP6U__H-2k"
      },
      "outputs": [],
      "source": [
        "predictions_all = model.predict(x_train_test, batch_size=32, verbose=2)\n",
        "print (\"predicted images size :\",predictions_all.shape)\n",
        "print(predictions_all)"
      ]
    },
    {
      "cell_type": "code",
      "execution_count": null,
      "metadata": {
        "id": "WNwc58Pe25yo"
      },
      "outputs": [],
      "source": [
        "d=[67,2025]\n",
        "chb=[3297, 6265, 9859, 13530]\n",
        "d=numpy.array(d)\n",
        "chb=numpy.array(chb)\n",
        "rs=[]\n",
        "for l in range (67,1864):\n",
        "  if((y_pred_all[l][0]==1) and (y_pred_all[l+1][0]==1) and (y_pred_all[l+2][0]==1)):\n",
        "    rs.append(l)\n",
        "    continue\n",
        "  \n",
        "\n",
        "print(rs)\n",
        "k=1864-68\n",
        "\n",
        "print(\"the duration before seizure in min is\", (k*2)/60)"
      ]
    }
  ],
  "metadata": {
    "accelerator": "GPU",
    "colab": {
      "collapsed_sections": [],
      "name": "Classification_crises_epilepsie.ipynb",
      "provenance": [],
      "include_colab_link": true
    },
    "kernelspec": {
      "display_name": "Python 3",
      "language": "python",
      "name": "python3"
    },
    "language_info": {
      "codemirror_mode": {
        "name": "ipython",
        "version": 3
      },
      "file_extension": ".py",
      "mimetype": "text/x-python",
      "name": "python",
      "nbconvert_exporter": "python",
      "pygments_lexer": "ipython3",
      "version": "3.8.8"
    },
    "gpuClass": "standard"
  },
  "nbformat": 4,
  "nbformat_minor": 0
}